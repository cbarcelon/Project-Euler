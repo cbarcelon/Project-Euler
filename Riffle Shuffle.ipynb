{
 "cells": [
  {
   "cell_type": "markdown",
   "metadata": {},
   "source": [
    "## Problem 622 - Riffle Shuffle\n",
    "\n",
    "A riffle shuffle is executed as follows: a deck of cards is split into two equal halves, with the top half taken in the left hand and the bottom half taken in the right hand. Next, the cards are interleaved exactly, with the top card in the right half inserted just after the top card in the left half, the 2nd card in the right half just after the 2nd card in the left half, etc. (Note that this process preserves the location of the top and bottom card of the deck)\n",
    "\n",
    "Let s(n) be the minimum number of consecutive riffle shuffles needed to restore a deck of size n to its original configuration, where n is a positive even number.\n",
    "\n",
    "Amazingly, a standard deck of 52 cards will first return to its original configuration after only 8 perfect shuffles, so s(52)=8. It can be verified that a deck of 86 cards will also return to its original configuration after exactly 8 shuffles, and the sum of all values of n that satisfy s(n)=8 is 412.\n",
    "\n",
    "Find the sum of all values of n that satisfy s(n)=60.\n",
    "\n",
    "## Problem 622 - Solution"
   ]
  },
  {
   "cell_type": "code",
   "execution_count": 3,
   "metadata": {
    "collapsed": true
   },
   "outputs": [],
   "source": [
    "# fuction for GCD\n",
    "def GCD (a, b ) :\n",
    "    if (b == 0 ) :\n",
    "        return a\n",
    "    return GCD( b, a % b ) \n",
    "# Fucnction return smallest + ve\n",
    "# integer that holds condition \n",
    "# A ^ k(mod N ) = 1\n",
    "def multiplicativeOrder(A, N) :\n",
    "    if (GCD(A, N ) != 1) :\n",
    "        return -1\n",
    " \n",
    "    # result store power of A that rised \n",
    "    # to the power N-1\n",
    "    result = 1\n",
    " \n",
    "    K = 1\n",
    "    while (K < N) :\n",
    "     \n",
    "        # modular arithmetic\n",
    "        result = (result * A) % N \n",
    " \n",
    "        # return samllest + ve integer\n",
    "        if (result == 1) :\n",
    "            return K\n",
    " \n",
    "        # increment power\n",
    "        K = K + 1\n",
    "     \n",
    "    return -1"
   ]
  },
  {
   "cell_type": "code",
   "execution_count": 13,
   "metadata": {},
   "outputs": [
    {
     "name": "stdout",
     "output_type": "stream",
     "text": [
      "8\n"
     ]
    }
   ],
   "source": [
    "print(multiplicativeOrder(2,51))"
   ]
  },
  {
   "cell_type": "code",
   "execution_count": 20,
   "metadata": {},
   "outputs": [
    {
     "name": "stdout",
     "output_type": "stream",
     "text": [
      "8333144\n"
     ]
    }
   ],
   "source": [
    "sum = 0\n",
    "for n in range(0,101000, 2):\n",
    "    if multiplicativeOrder(2, n-1)  == 60:\n",
    "        sum += n\n",
    "print(sum)        "
   ]
  },
  {
   "cell_type": "code",
   "execution_count": null,
   "metadata": {},
   "outputs": [],
   "source": []
  },
  {
   "cell_type": "code",
   "execution_count": null,
   "metadata": {
    "collapsed": true
   },
   "outputs": [],
   "source": []
  }
 ],
 "metadata": {
  "kernelspec": {
   "display_name": "Python 2",
   "language": "python",
   "name": "python2"
  },
  "language_info": {
   "codemirror_mode": {
    "name": "ipython",
    "version": 2
   },
   "file_extension": ".py",
   "mimetype": "text/x-python",
   "name": "python",
   "nbconvert_exporter": "python",
   "pygments_lexer": "ipython2",
   "version": "2.7.14"
  }
 },
 "nbformat": 4,
 "nbformat_minor": 2
}
