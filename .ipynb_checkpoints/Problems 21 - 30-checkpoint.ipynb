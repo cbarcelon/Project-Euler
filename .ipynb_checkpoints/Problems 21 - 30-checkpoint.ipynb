{
 "cells": [
  {
   "cell_type": "markdown",
   "metadata": {},
   "source": [
    "## Problem 21 - Amicable numbers\n",
    "\n",
    "Let d(n) be defined as the sum of proper divisors of n (numbers less than n which divide evenly into n).\n",
    "If d(a) = b and d(b) = a, where a ≠ b, then a and b are an amicable pair and each of a and b are called amicable numbers.\n",
    "\n",
    "For example, the proper divisors of 220 are 1, 2, 4, 5, 10, 11, 20, 22, 44, 55 and 110; therefore d(220) = 284. The proper divisors of 284 are 1, 2, 4, 71 and 142; so d(284) = 220.\n",
    "\n",
    "Evaluate the sum of all the amicable numbers under 10000.\n",
    "\n",
    "## Problem 21 - Solution"
   ]
  },
  {
   "cell_type": "code",
   "execution_count": 22,
   "metadata": {},
   "outputs": [
    {
     "name": "stdout",
     "output_type": "stream",
     "text": [
      "31626\n",
      "2.3234265545\n"
     ]
    }
   ],
   "source": [
    "import math, time\n",
    "def get_proper_divisors(n):\n",
    "    divisors = []\n",
    "    for i in range(1,(n/2)+1):\n",
    "        if n%i == 0:\n",
    "            divisors.append(i)\n",
    "    return divisors\n",
    "amicable = []\n",
    "s = time.clock() \n",
    "for i in range(1, 10001):\n",
    "    tmp = get_proper_divisors(i)\n",
    "    tmp2 = get_proper_divisors(sum(tmp))\n",
    "    if sum(tmp2) == i and sum(tmp) != i:\n",
    "        if i not in amicable:\n",
    "            amicable.append(i)\n",
    "print(sum(amicable))\n",
    "e = time.clock()\n",
    "print(e-s)"
   ]
  },
  {
   "cell_type": "markdown",
   "metadata": {},
   "source": [
    "## Problem 22 - Names Scores\n",
    "\n",
    "Using names.txt (right click and 'Save Link/Target As...'), a 46K text file containing over five-thousand first names, begin by sorting it into alphabetical order. Then working out the alphabetical value for each name, multiply this value by its alphabetical position in the list to obtain a name score.  \n",
    "\n",
    "For example, when the list is sorted into alphabetical order, COLIN, which is worth 3 + 15 + 12 + 9 + 14 = 53, is the 938th name in the list. So, COLIN would obtain a score of 938 × 53 = 49714.\n",
    "\n",
    "What is the total of all the name scores in the file?\n",
    "\n",
    "## Problem 22 - Solution"
   ]
  },
  {
   "cell_type": "code",
   "execution_count": 4,
   "metadata": {
    "collapsed": true
   },
   "outputs": [],
   "source": [
    "names = []\n",
    "f = open('./p022_names.txt', 'r')\n",
    "s = f.readline()\n",
    "f.close()    "
   ]
  },
  {
   "cell_type": "code",
   "execution_count": 18,
   "metadata": {
    "collapsed": true
   },
   "outputs": [],
   "source": [
    "names = s.split(',')\n",
    "Names = []\n",
    "for name in names:\n",
    "    Names.append(name.strip('\\\"'))\n",
    "Names.sort()    "
   ]
  },
  {
   "cell_type": "code",
   "execution_count": 26,
   "metadata": {},
   "outputs": [
    {
     "name": "stdout",
     "output_type": "stream",
     "text": [
      "871198282\n"
     ]
    }
   ],
   "source": [
    "total = 0\n",
    "count = 1\n",
    "for name in Names:\n",
    "    name_sum = 0\n",
    "    for i in name:\n",
    "        name_sum += (ord(i)-64)\n",
    "    total += (name_sum*count)\n",
    "    count += 1\n",
    "print(total)\n",
    "        "
   ]
  },
  {
   "cell_type": "markdown",
   "metadata": {},
   "source": [
    "## Problem 23 - Non-abundant sums\n",
    "\n",
    "A perfect number is a number for which the sum of its proper divisors is exactly equal to the number. For example, the sum of the proper divisors of 28 would be 1 + 2 + 4 + 7 + 14 = 28, which means that 28 is a perfect number.\n",
    "\n",
    "A number n is called deficient if the sum of its proper divisors is less than n and it is called abundant if this sum exceeds n.\n",
    "\n",
    "As 12 is the smallest abundant number, 1 + 2 + 3 + 4 + 6 = 16, the smallest number that can be written as the sum of two abundant numbers is 24. By mathematical analysis, it can be shown that all integers greater than 28123 can be written as the sum of two abundant numbers. However, this upper limit cannot be reduced any further by analysis even though it is known that the greatest number that cannot be expressed as the sum of two abundant numbers is less than this limit.\n",
    "\n",
    "Find the sum of all the positive integers which cannot be written as the sum of two abundant numbers.\n",
    "\n",
    "## Problem 23 - Solution"
   ]
  },
  {
   "cell_type": "code",
   "execution_count": 8,
   "metadata": {},
   "outputs": [],
   "source": [
    "import math, time\n",
    "def get_proper_divisors(n):\n",
    "    divisors = []\n",
    "    for i in range(1,(n/2)+1):\n",
    "        if n%i == 0:\n",
    "            divisors.append(i)\n",
    "    return divisors\n",
    "\n",
    "nums = [i for i in range(1,28124)]\n",
    "abundant = []\n",
    "tmp = []\n",
    "for i in range(1,28124):\n",
    "    tmp = get_proper_divisors(i)\n",
    "    if sum(tmp) > i:\n",
    "        abundant.append(i)"
   ]
  },
  {
   "cell_type": "code",
   "execution_count": 9,
   "metadata": {},
   "outputs": [],
   "source": [
    "for i in abundant:\n",
    "    for j in abundant:\n",
    "        tmp = i+j\n",
    "        if tmp in nums:\n",
    "            nums.remove(tmp)\n",
    "    abundant.remove(i)    "
   ]
  },
  {
   "cell_type": "code",
   "execution_count": 12,
   "metadata": {},
   "outputs": [
    {
     "name": "stdout",
     "output_type": "stream",
     "text": [
      "[1, 2, 3, 4, 5, 6, 7, 8, 9, 10, 11, 12, 13, 14, 15, 16, 17, 18, 19, 20, 21, 22, 23, 25, 26, 27, 28, 29, 31, 33, 34, 35, 37, 39, 41, 43, 45, 46, 47, 49, 51, 53, 55, 57, 59, 61, 63, 65, 67, 69, 71, 73, 75, 77, 79, 81, 83, 85, 87, 89, 91, 93, 95, 97, 99, 101, 103, 105, 107, 109, 111, 113, 115, 117, 119, 121, 123, 125, 127, 129, 131, 133, 135, 137, 139, 141, 143, 145, 147, 149, 151, 153, 155, 157, 159, 161, 163, 165, 167, 169, 171, 173, 175, 177, 179, 181, 183, 185, 187, 189, 191, 193, 195, 197, 199, 201, 203, 205, 207, 209, 211, 213, 215, 217, 219, 221, 223, 225, 227, 229, 231, 233, 235, 237, 239, 241, 243, 245, 247, 249, 251, 253, 255, 257, 259, 261, 263, 265, 267, 269, 271, 273, 275, 277, 279, 281, 283, 285, 287, 289, 291, 293, 295, 297, 299, 301, 303, 305, 307, 309, 311, 313, 315, 317, 319, 321, 323, 325, 327, 329, 331, 333, 335, 337, 339, 341, 343, 345, 347, 349, 351, 353, 355, 357, 359, 361, 363, 365, 367, 369, 371, 373, 375, 377, 379, 381, 383, 385, 387, 389, 391, 393, 395, 397, 399, 401, 403, 405, 407, 409, 411, 413, 415, 417, 419, 421, 423, 425, 427, 429, 431, 433, 435, 437, 439, 441, 443, 445, 447, 449, 451, 453, 455, 457, 459, 461, 463, 465, 467, 469, 471, 473, 475, 477, 479, 481, 483, 485, 487, 489, 491, 493, 495, 497, 499, 501, 503, 505, 507, 509, 511, 513, 515, 517, 519, 521, 523, 525, 527, 529, 531, 533, 535, 537, 539, 541, 543, 545, 547, 549, 551, 553, 555, 557, 559, 561, 563, 565, 567, 569, 571, 573, 575, 577, 579, 581, 583, 585, 587, 589, 591, 593, 595, 597, 599, 601, 603, 605, 607, 609, 611, 613, 615, 617, 619, 621, 623, 625, 627, 629, 631, 633, 635, 637, 639, 641, 643, 645, 647, 649, 651, 653, 655, 657, 659, 661, 663, 665, 667, 669, 671, 673, 675, 677, 679, 681, 683, 685, 687, 689, 691, 693, 695, 697, 699, 701, 703, 705, 707, 709, 711, 713, 715, 717, 719, 721, 723, 725, 727, 729, 731, 733, 735, 737, 739, 741, 743, 745, 747, 749, 751, 753, 755, 757, 759, 761, 763, 765, 767, 769, 771, 773, 775, 777, 779, 781, 783, 785, 787, 789, 791, 793, 795, 797, 799, 801, 803, 805, 807, 809, 811, 813, 815, 817, 819, 821, 823, 825, 827, 829, 831, 833, 835, 837, 839, 841, 843, 845, 847, 849, 851, 853, 855, 857, 859, 861, 863, 865, 867, 869, 871, 873, 875, 877, 879, 881, 883, 885, 887, 889, 891, 893, 895, 897, 899, 901, 903, 905, 907, 909, 911, 913, 915, 917, 919, 921, 923, 925, 927, 929, 931, 933, 935, 937, 939, 941, 943, 945, 947, 949, 951, 953, 955, 959, 961, 963, 967, 969, 971, 973, 977, 979, 981, 983, 987, 989, 991, 995, 997, 999, 1003, 1005, 1007, 1009, 1013, 1015, 1019, 1021, 1023, 1027, 1029, 1031, 1035, 1037, 1039, 1043, 1045, 1049, 1051, 1055, 1057, 1061, 1063, 1065, 1067, 1069, 1073, 1075, 1077, 1079, 1081, 1085, 1087, 1091, 1093, 1095, 1097, 1099, 1103, 1105, 1109, 1111, 1113, 1115, 1117, 1121, 1123, 1127, 1129, 1131, 1133, 1135, 1139, 1141, 1145, 1147, 1151, 1153, 1157, 1159, 1161, 1163, 1167, 1171, 1173, 1175, 1177, 1181, 1183, 1185, 1187, 1189, 1193, 1195, 1197, 1199, 1201, 1205, 1207, 1211, 1213, 1215, 1219, 1221, 1223, 1227, 1229, 1231, 1235, 1237, 1239, 1241, 1243, 1247, 1249, 1253, 1255, 1259, 1261, 1263, 1267, 1269, 1271, 1273, 1277, 1279, 1281, 1283, 1287, 1289, 1291, 1295, 1299, 1301, 1303, 1307, 1309, 1313, 1315, 1319, 1321, 1323, 1327, 1329, 1331, 1333, 1337, 1339, 1343, 1345, 1349, 1351, 1353, 1355, 1357, 1361, 1363, 1367, 1369, 1371, 1373, 1375, 1379, 1381, 1383, 1387, 1389, 1391, 1395, 1397, 1399, 1403, 1405, 1409, 1411, 1415, 1417, 1419, 1423, 1425, 1427, 1429, 1433, 1435, 1439, 1441, 1443, 1447, 1449, 1451, 1453, 1457, 1459, 1461, 1463, 1467, 1469, 1471, 1475, 1477, 1481, 1483, 1485, 1487, 1491, 1493, 1497, 1499, 1501, 1505, 1507, 1511, 1513, 1515, 1519, 1521, 1523, 1527, 1529, 1531, 1535, 1537, 1539, 1541, 1543, 1547, 1549, 1551, 1555, 1557, 1559, 1563, 1567, 1569, 1571, 1573, 1577, 1579, 1581, 1583, 1591, 1593, 1597, 1599, 1601, 1603, 1607, 1609, 1611, 1613, 1619, 1621, 1627, 1629, 1633, 1637, 1639, 1643, 1651, 1653, 1657, 1661, 1665, 1667, 1669, 1673, 1675, 1679, 1681, 1685, 1687, 1691, 1693, 1697, 1699, 1703, 1707, 1709, 1711, 1715, 1717, 1721, 1723, 1725, 1727, 1733, 1735, 1739, 1741, 1743, 1747, 1751, 1753, 1757, 1759, 1763, 1765, 1769, 1771, 1775, 1783, 1787, 1789, 1793, 1797, 1801, 1805, 1807, 1811, 1813, 1817, 1819, 1823, 1827, 1829, 1831, 1835, 1837, 1843, 1845, 1849, 1853, 1859, 1861, 1867, 1869, 1871, 1877, 1879, 1883, 1885, 1889, 1891, 1897, 1901, 1903, 1907, 1909, 1913, 1919, 1921, 1929, 1931, 1933, 1937, 1939, 1943, 1945, 1949, 1951, 1953, 1957, 1961, 1963, 1967, 1969, 1973, 1975, 1979, 1983, 1987, 1991, 1993, 1997, 1999, 2001, 2003, 2011, 2013, 2017, 2021, 2025, 2027, 2029, 2033, 2035, 2039, 2041, 2047, 2049, 2053, 2057, 2059, 2063, 2069, 2071, 2077, 2079, 2081, 2083, 2087, 2089, 2093, 2099, 2101, 2107, 2111, 2113, 2117, 2121, 2123, 2127, 2131, 2137, 2141, 2143, 2149, 2153, 2157, 2159, 2167, 2169, 2171, 2173, 2177, 2179, 2185, 2189, 2193, 2197, 2201, 2203, 2207, 2209, 2213, 2221, 2227, 2231, 2233, 2237, 2239, 2243, 2249, 2251, 2257, 2263, 2267, 2269, 2273, 2281, 2287, 2291, 2299, 2303, 2311, 2315, 2321, 2323, 2327, 2329, 2333, 2339, 2341, 2347, 2351, 2357, 2363, 2369, 2371, 2377, 2383, 2387, 2389, 2393, 2395, 2399, 2419, 2423, 2431, 2435, 2437, 2441, 2443, 2447, 2449, 2453, 2459, 2461, 2467, 2473, 2479, 2483, 2489, 2491, 2497, 2501, 2507, 2515, 2519, 2521, 2527, 2531, 2533, 2537, 2539, 2543, 2549, 2551, 2561, 2563, 2567, 2575, 2579, 2581, 2587, 2591, 2593, 2599, 2603, 2623, 2627, 2629, 2633, 2641, 2647, 2651, 2657, 2659, 2663, 2671, 2677, 2683, 2687, 2689, 2693, 2699, 2701, 2707, 2711, 2717, 2719, 2723, 2729, 2731, 2741, 2743, 2747, 2753, 2761, 2767, 2771, 2773, 2779, 2783, 2789, 2797, 2803, 2807, 2809, 2815, 2819, 2827, 2831, 2833, 2837, 2839, 2843, 2851, 2857, 2861, 2863, 2867, 2869, 2873, 2879, 2887, 2893, 2897, 2899, 2903, 2911, 2917, 2921, 2929, 2939, 2947, 2951, 2957, 2959, 2963, 2969, 2971, 2977, 2981, 2987, 2993, 2995, 2999, 3001, 3007, 3011, 3013, 3019, 3023, 3029, 3031, 3043, 3049, 3053, 3061, 3067, 3071, 3077, 3079, 3083, 3089, 3091, 3095, 3097, 3103, 3109, 3113, 3119, 3127, 3131, 3137, 3139, 3143, 3149, 3151, 3161, 3163, 3167, 3169, 3179, 3181, 3191, 3193, 3199, 3203, 3209, 3211, 3217, 3221, 3223, 3229, 3233, 3251, 3253, 3257, 3259, 3263, 3271, 3277, 3281, 3287, 3289, 3299, 3301, 3307, 3317, 3319, 3323, 3329, 3331, 3341, 3347, 3359, 3361, 3371, 3373, 3383, 3391, 3397, 3401, 3403, 3413, 3419, 3427, 3433, 3439, 3449, 3457, 3461, 3463, 3467, 3469, 3473, 3481, 3487, 3491, 3497, 3499, 3503, 3509, 3523, 3527, 3529, 3533, 3541, 3547, 3551, 3559, 3563, 3571, 3583, 3587, 3589, 3593, 3599, 3601, 3607, 3611, 3617, 3623, 3629, 3631, 3637, 3643, 3647, 3649, 3653, 3655, 3659, 3679, 3683, 3691, 3707, 3713, 3719, 3721, 3727, 3733, 3739, 3743, 3749, 3757, 3767, 3779, 3781, 3787, 3791, 3793, 3797, 3799, 3803, 3809, 3811, 3821, 3823, 3827, 3835, 3839, 3841, 3847, 3851, 3853, 3859, 3863, 3883, 3887, 3889, 3893, 3907, 3911, 3917, 3919, 3923, 3931, 3947, 3949, 3953, 3959, 3971, 3977, 3979, 3989, 3991, 4001, 4003, 4013, 4021, 4027, 4031, 4033, 4043, 4049, 4057, 4063, 4069, 4079, 4087, 4091, 4097, 4099, 4103, 4111, 4117, 4121, 4123, 4127, 4129, 4133, 4139, 4147, 4153, 4159, 4163, 4171, 4177, 4211, 4217, 4219, 4223, 4231, 4237, 4241, 4247, 4253, 4259, 4261, 4267, 4279, 4283, 4309, 4313, 4321, 4331, 4337, 4339, 4343, 4349, 4351, 4357, 4363, 4369, 4373, 4379, 4387, 4397, 4409, 4411, 4421, 4423, 4427, 4429, 4439, 4441, 4451, 4453, 4469, 4471, 4477, 4481, 4483, 4489, 4513, 4517, 4519, 4523, 4531, 4537, 4541, 4547, 4549, 4561, 4577, 4579, 4583, 4589, 4601, 4607, 4619, 4621, 4631, 4633, 4643, 4651, 4661, 4663, 4673, 4679, 4687, 4693, 4699, 4709, 4717, 4721, 4723, 4727, 4729, 4733, 4741, 4747, 4751, 4759, 4763, 4769, 4783, 4787, 4793, 4801, 4807, 4811, 4819, 4847, 4853, 4859, 4861, 4867, 4871, 4877, 4883, 4891, 4939, 4943, 4951, 4967, 4973, 4979, 4981, 4987, 4999, 5003, 5009, 5017, 5027, 5039, 5041, 5051, 5053, 5057, 5059, 5069, 5071, 5081, 5083, 5099, 5101, 5107, 5111, 5113, 5119, 5123, 5143, 5147, 5153, 5167, 5171, 5177, 5179, 5191, 5207, 5219, 5231, 5237, 5249, 5251, 5261, 5263, 5273, 5281, 5291, 5293, 5303, 5309, 5317, 5323, 5329, 5339, 5347, 5351, 5357, 5359, 5363, 5371, 5377, 5381, 5387, 5389, 5393, 5399, 5413, 5419, 5423, 5431, 5437, 5477, 5483, 5491, 5497, 5501, 5507, 5513, 5539, 5573, 5581, 5603, 5609, 5611, 5617, 5629, 5633, 5639, 5647, 5669, 5671, 5681, 5683, 5687, 5689, 5699, 5711, 5713, 5731, 5737, 5743, 5749, 5773, 5777, 5779, 5783, 5797, 5801, 5807, 5821, 5837, 5843, 5849, 5861, 5867, 5879, 5881, 5891, 5893, 5903, 5911, 5921, 5923, 5933, 5939, 5947, 5953, 5959, 5969, 5987, 5993, 6001, 6007, 6011, 6019, 6023, 6029, 6043, 6061, 6067, 6107, 6121, 6131, 6137, 6143, 6161, 6203, 6211, 6227, 6233, 6239, 6241, 6247, 6259, 6263, 6269, 6277, 6289, 6299, 6301, 6311, 6317, 6329, 6331, 6343, 6353, 6361, 6367, 6371, 6373, 6379, 6401, 6403, 6407, 6413, 6427, 6431, 6437, 6449, 6451, 6467, 6497, 6509, 6511, 6533, 6541, 6551, 6553, 6563, 6569, 6577, 6583, 6589, 6599, 6617, 6619, 6623, 6637, 6641, 6649, 6653, 6673, 6683, 6691, 6697, 6733, 6737, 6751, 6757, 6761, 6767, 6773, 6791, 6833, 6841, 6863, 6871, 6889, 6893, 6907, 6919, 6931, 6947, 6949, 6953, 6971, 6973, 6977, 6983, 6997, 7003, 7009, 7031, 7033, 7037, 7057, 7061, 7067, 7081, 7109, 7121, 7129, 7141, 7181, 7199, 7207, 7213, 7229, 7253, 7279, 7283, 7289, 7297, 7321, 7327, 7361, 7367, 7381, 7391, 7463, 7489, 7493, 7501, 7507, 7519, 7537, 7561, 7571, 7577, 7589, 7603, 7607, 7621, 7627, 7663, 7673, 7687, 7691, 7727, 7739, 7757, 7759, 7769, 7771, 7793, 7801, 7813, 7849, 7859, 7877, 7883, 7897, 7913, 7927, 7933, 7957, 7961, 7991, 8011, 8017, 8021, 8027, 8051, 8111, 8119, 8123, 8149, 8159, 8179, 8191, 8219, 8243, 8251, 8269, 8273, 8293, 8303, 8317, 8327, 8401, 8431, 8441, 8443, 8467, 8473, 8513, 8531, 8539, 8543, 8581, 8587, 8599, 8623, 8627, 8651, 8663, 8689, 8753, 8779, 8809, 8821, 8837, 8839, 8881, 8887, 8903, 8923, 8929, 8933, 8947, 8951, 8957, 8971, 8993, 9017, 9029, 9061, 9071, 9073, 9109, 9137, 9143, 9211, 9253, 9293, 9371, 9377, 9391, 9419, 9467, 9473, 9511, 9517, 9521, 9529, 9559, 9581, 9587, 9617, 9623, 9661, 9701, 9703, 9733, 9769, 9787, 9803, 9847, 9881, 9911, 10007, 10069, 10097, 10123, 10193, 10201, 10217, 10321, 10331, 10363, 10369, 10393, 10463, 10471, 10481, 10489, 10541, 10553, 10649, 10679, 10711, 10721, 10727, 10789, 10817, 10819, 10877, 10883, 10921, 10951, 10961, 10993, 11041, 11141, 11183, 11267, 11309, 11359, 11383, 11471, 11581, 11591, 11623, 11659, 11707, 11723, 11749, 11801, 11807, 11873, 11881, 11959, 11971, 12013, 12071, 12077, 12083, 12101, 12221, 12239, 12329, 12361, 12379, 12407, 12569, 12611, 12619, 12647, 12703, 12731, 12833, 12851, 13031, 13037, 13061, 13067, 13151, 13169, 13177, 13297, 13309, 13561, 13621, 13721, 13793, 13829, 13879, 13913, 13927, 13943, 14009, 14111, 14143, 14251, 14297, 14393, 14411, 14423, 14429, 14513, 14537, 14557, 14687, 14821, 14843, 15047, 15203, 15353, 15371, 15409, 15439, 15511, 15551, 15557, 15577, 15653, 15767, 15817, 15833, 15923, 16001, 16073, 16187, 16283, 16307, 16381, 16463, 16613, 16663, 16733, 16817, 17011, 17027, 17117, 17183, 17261, 17657, 17659, 17707, 17777, 17891, 17923, 18107, 18209, 18437, 18917, 19003, 19031, 19067, 19073, 19249, 19433, 19451, 19531, 19633, 19883, 20161, 20411, 20807, 20857, 21143, 21221, 21421, 21617, 21739, 22073, 22369, 22481, 22699, 22811, 23327, 23633, 24637, 25367, 25433, 26003, 26267, 26527, 27409, 27739, 27787, 27887, 28073]\n"
     ]
    }
   ],
   "source": [
    "print(nums)"
   ]
  },
  {
   "cell_type": "markdown",
   "metadata": {},
   "source": [
    "## Problem 24 - Lexicographic permutations\n",
    "\n",
    "A permutation is an ordered arrangement of objects. For example, 3124 is one possible permutation of the digits 1, 2, 3 and 4. If all of the permutations are listed numerically or alphabetically, we call it lexicographic order. The lexicographic permutations of 0, 1 and 2 are:\n",
    "\n",
    "012   021   102   120   201   210\n",
    "\n",
    "What is the millionth lexicographic permutation of the digits 0, 1, 2, 3, 4, 5, 6, 7, 8 and 9?\n",
    "\n",
    "## Problem 24 Solution"
   ]
  },
  {
   "cell_type": "code",
   "execution_count": null,
   "metadata": {
    "collapsed": true
   },
   "outputs": [],
   "source": []
  },
  {
   "cell_type": "markdown",
   "metadata": {},
   "source": [
    "## Problem 25 - 1000-digit Fibonacci number\n",
    "\n",
    "The Fibonacci sequence is defined by the recurrence relation:\n",
    "\n",
    "Fn = Fn−1 + Fn−2, where F1 = 1 and F2 = 1.\n",
    "Hence the first 12 terms will be:\n",
    "\n",
    "F1 = 1\n",
    "F2 = 1\n",
    "F3 = 2\n",
    "F4 = 3\n",
    "F5 = 5\n",
    "F6 = 8\n",
    "F7 = 13\n",
    "F8 = 21\n",
    "F9 = 34\n",
    "F10 = 55\n",
    "F11 = 89\n",
    "F12 = 144\n",
    "The 12th term, F12, is the first term to contain three digits.\n",
    "\n",
    "What is the index of the first term in the Fibonacci sequence to contain 1000 digits?"
   ]
  },
  {
   "cell_type": "code",
   "execution_count": null,
   "metadata": {
    "collapsed": true
   },
   "outputs": [],
   "source": []
  },
  {
   "cell_type": "markdown",
   "metadata": {},
   "source": [
    "## Problem 26 - Recipricol cycles\n",
    "\n",
    "A unit fraction contains 1 in the numerator. The decimal representation of the unit fractions with denominators 2 to 10 are given:\n",
    "\n",
    "1/2\t= \t0.5\n",
    "1/3\t= \t0.(3)\n",
    "1/4\t= \t0.25\n",
    "1/5\t= \t0.2\n",
    "1/6\t= \t0.1(6)\n",
    "1/7\t= \t0.(142857)\n",
    "1/8\t= \t0.125\n",
    "1/9\t= \t0.(1)\n",
    "1/10\t= \t0.1\n",
    "Where 0.1(6) means 0.166666..., and has a 1-digit recurring cycle. It can be seen that 1/7 has a 6-digit recurring cycle.\n",
    "\n",
    "Find the value of d < 1000 for which 1/d contains the longest recurring cycle in its decimal fraction part.\n",
    "\n",
    "## Problem 26 - Solution"
   ]
  },
  {
   "cell_type": "code",
   "execution_count": null,
   "metadata": {
    "collapsed": true
   },
   "outputs": [],
   "source": []
  },
  {
   "cell_type": "markdown",
   "metadata": {},
   "source": [
    "## Problem 27 - Quadratic primes\n",
    "\n",
    "Euler discovered the remarkable quadratic formula:\n",
    "n2+n+41n2+n+41\n",
    "It turns out that the formula will produce 40 primes for the consecutive integer values 0≤n≤390≤n≤39. However, when n=40,402+40+41=40(40+1)+41n=40,402+40+41=40(40+1)+41 is divisible by 41, and certainly when n=41,412+41+41n=41,412+41+41 is clearly divisible by 41.\n",
    "The incredible formula n2−79n+1601n2−79n+1601 was discovered, which produces 80 primes for the consecutive values 0≤n≤790≤n≤79. The product of the coefficients, −79 and 1601, is −126479.\n",
    "Considering quadratics of the form:\n",
    "n2+an+bn2+an+b, where |a|<1000|a|<1000 and |b|≤1000|b|≤1000\n",
    "\n",
    "where |n||n| is the modulus/absolute value of nn\n",
    "e.g. |11|=11|11|=11 and |−4|=4|−4|=4\n",
    "Find the product of the coefficients, aa and bb, for the quadratic expression that produces the maximum number of primes for consecutive values of nn, starting with n=0n=0.\n",
    "\n",
    "## Problem 27 - Solution"
   ]
  },
  {
   "cell_type": "code",
   "execution_count": null,
   "metadata": {
    "collapsed": true
   },
   "outputs": [],
   "source": []
  },
  {
   "cell_type": "markdown",
   "metadata": {},
   "source": [
    "## Problem 28 - Number spiral diagonals\n",
    "\n",
    "tarting with the number 1 and moving to the right in a clockwise direction a 5 by 5 spiral is formed as follows:\n",
    "\n",
    "21 22 23 24 25\n",
    "20  7  8  9 10\n",
    "19  6  1  2 11\n",
    "18  5  4  3 12\n",
    "17 16 15 14 13\n",
    "\n",
    "It can be verified that the sum of the numbers on the diagonals is 101.\n",
    "\n",
    "What is the sum of the numbers on the diagonals in a 1001 by 1001 spiral formed in the same way?\n",
    "\n",
    "## Problem 28 - Solution"
   ]
  },
  {
   "cell_type": "code",
   "execution_count": null,
   "metadata": {
    "collapsed": true
   },
   "outputs": [],
   "source": []
  },
  {
   "cell_type": "markdown",
   "metadata": {},
   "source": [
    "## Problem 29 - Distinct powers\n",
    "\n",
    "Consider all integer combinations of ab for 2 ≤ a ≤ 5 and 2 ≤ b ≤ 5:\n",
    "\n",
    "22=4, 23=8, 24=16, 25=32\n",
    "32=9, 33=27, 34=81, 35=243\n",
    "42=16, 43=64, 44=256, 45=1024\n",
    "52=25, 53=125, 54=625, 55=3125\n",
    "If they are then placed in numerical order, with any repeats removed, we get the following sequence of 15 distinct terms:\n",
    "\n",
    "4, 8, 9, 16, 25, 27, 32, 64, 81, 125, 243, 256, 625, 1024, 3125\n",
    "\n",
    "How many distinct terms are in the sequence generated by ab for 2 ≤ a ≤ 100 and 2 ≤ b ≤ 100?\n",
    "\n",
    "## Problem 29 - Solution"
   ]
  },
  {
   "cell_type": "code",
   "execution_count": null,
   "metadata": {
    "collapsed": true
   },
   "outputs": [],
   "source": []
  },
  {
   "cell_type": "markdown",
   "metadata": {},
   "source": [
    "## Problem 30 - Digit fifth powers\n",
    "\n",
    "Surprisingly there are only three numbers that can be written as the sum of fourth powers of their digits:\n",
    "\n",
    "1634 = 14 + 64 + 34 + 44\n",
    "8208 = 84 + 24 + 04 + 84\n",
    "9474 = 94 + 44 + 74 + 44\n",
    "As 1 = 14 is not a sum it is not included.\n",
    "\n",
    "The sum of these numbers is 1634 + 8208 + 9474 = 19316.\n",
    "\n",
    "Find the sum of all the numbers that can be written as the sum of fifth powers of their digits.\n",
    "\n",
    "## Problem 30 - Solution"
   ]
  },
  {
   "cell_type": "code",
   "execution_count": null,
   "metadata": {
    "collapsed": true
   },
   "outputs": [],
   "source": []
  }
 ],
 "metadata": {
  "kernelspec": {
   "display_name": "Python 2",
   "language": "python",
   "name": "python2"
  },
  "language_info": {
   "codemirror_mode": {
    "name": "ipython",
    "version": 2
   },
   "file_extension": ".py",
   "mimetype": "text/x-python",
   "name": "python",
   "nbconvert_exporter": "python",
   "pygments_lexer": "ipython2",
   "version": "2.7.13"
  }
 },
 "nbformat": 4,
 "nbformat_minor": 2
}
