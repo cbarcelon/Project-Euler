{
 "cells": [
  {
   "cell_type": "markdown",
   "metadata": {},
   "source": [
    "## Problem 11 - Largest product in a grid\n",
    "\n",
    "In the 20×20 grid below, four numbers along a diagonal line have been marked in red.\n",
    "\n",
    "08 02 22 97 38 15 00 40 00 75 04 05 07 78 52 12 50 77 91 08  \n",
    "49 49 99 40 17 81 18 57 60 87 17 40 98 43 69 48 04 56 62 00  \n",
    "81 49 31 73 55 79 14 29 93 71 40 67 53 88 30 03 49 13 36 65  \n",
    "52 70 95 23 04 60 11 42 69 24 68 56 01 32 56 71 37 02 36 91  \n",
    "22 31 16 71 51 67 63 89 41 92 36 54 22 40 40 28 66 33 13 80  \n",
    "24 47 32 60 99 03 45 02 44 75 33 53 78 36 84 20 35 17 12 50  \n",
    "32 98 81 28 64 23 67 10 26 38 40 67 59 54 70 66 18 38 64 70  \n",
    "67 26 20 68 02 62 12 20 95 63 94 39 63 08 40 91 66 49 94 21  \n",
    "24 55 58 05 66 73 99 26 97 17 78 78 96 83 14 88 34 89 63 72  \n",
    "21 36 23 09 75 00 76 44 20 45 35 14 00 61 33 97 34 31 33 95  \n",
    "78 17 53 28 22 75 31 67 15 94 03 80 04 62 16 14 09 53 56 92  \n",
    "16 39 05 42 96 35 31 47 55 58 88 24 00 17 54 24 36 29 85 57  \n",
    "86 56 00 48 35 71 89 07 05 44 44 37 44 60 21 58 51 54 17 58  \n",
    "19 80 81 68 05 94 47 69 28 73 92 13 86 52 17 77 04 89 55 40  \n",
    "04 52 08 83 97 35 99 16 07 97 57 32 16 26 26 79 33 27 98 66  \n",
    "88 36 68 87 57 62 20 72 03 46 33 67 46 55 12 32 63 93 53 69  \n",
    "04 42 16 73 38 25 39 11 24 94 72 18 08 46 29 32 40 62 76 36  \n",
    "20 69 36 41 72 30 23 88 34 62 99 69 82 67 59 85 74 04 36 16  \n",
    "20 73 35 29 78 31 90 01 74 31 49 71 48 86 81 16 23 57 05 54  \n",
    "01 70 54 71 83 51 54 69 16 92 33 48 61 43 52 01 89 19 67 48  \n",
    "\n",
    "The product of these numbers is 26 × 63 × 78 × 14 = 1788696.\n",
    "\n",
    "What is the greatest product of four adjacent numbers in the same direction (up, down, left, right, or diagonally) in the 20×20 grid?\n",
    "\n",
    "\n",
    "## Problem 11 - Solution"
   ]
  },
  {
   "cell_type": "code",
   "execution_count": 6,
   "metadata": {
    "collapsed": true
   },
   "outputs": [],
   "source": [
    "import numpy as np\n",
    "grid_string = \"08 02 22 97 38 15 00 40 00 75 04 05 07 78 52 12 50 77 91 08\" \n",
    "grid_string += \" 49 49 99 40 17 81 18 57 60 87 17 40 98 43 69 48 04 56 62 00\"\n",
    "grid_string += \" 81 49 31 73 55 79 14 29 93 71 40 67 53 88 30 03 49 13 36 65\"\n",
    "grid_string += \" 52 70 95 23 04 60 11 42 69 24 68 56 01 32 56 71 37 02 36 91\"\n",
    "grid_string += \" 22 31 16 71 51 67 63 89 41 92 36 54 22 40 40 28 66 33 13 80\"\n",
    "grid_string += \" 24 47 32 60 99 03 45 02 44 75 33 53 78 36 84 20 35 17 12 50\"\n",
    "grid_string += \" 32 98 81 28 64 23 67 10 26 38 40 67 59 54 70 66 18 38 64 70\"\n",
    "grid_string += \" 67 26 20 68 02 62 12 20 95 63 94 39 63 08 40 91 66 49 94 21\"\n",
    "grid_string += \" 24 55 58 05 66 73 99 26 97 17 78 78 96 83 14 88 34 89 63 72\"\n",
    "grid_string += \" 21 36 23 09 75 00 76 44 20 45 35 14 00 61 33 97 34 31 33 95\"\n",
    "grid_string += \" 78 17 53 28 22 75 31 67 15 94 03 80 04 62 16 14 09 53 56 92\"\n",
    "grid_string += \" 16 39 05 42 96 35 31 47 55 58 88 24 00 17 54 24 36 29 85 57\"\n",
    "grid_string += \" 86 56 00 48 35 71 89 07 05 44 44 37 44 60 21 58 51 54 17 58\"\n",
    "grid_string += \" 19 80 81 68 05 94 47 69 28 73 92 13 86 52 17 77 04 89 55 40\"\n",
    "grid_string += \" 04 52 08 83 97 35 99 16 07 97 57 32 16 26 26 79 33 27 98 66\"\n",
    "grid_string += \" 88 36 68 87 57 62 20 72 03 46 33 67 46 55 12 32 63 93 53 69\"\n",
    "grid_string += \" 04 42 16 73 38 25 39 11 24 94 72 18 08 46 29 32 40 62 76 36\"\n",
    "grid_string += \" 20 69 36 41 72 30 23 88 34 62 99 69 82 67 59 85 74 04 36 16\"\n",
    "grid_string += \" 20 73 35 29 78 31 90 01 74 31 49 71 48 86 81 16 23 57 05 54\"\n",
    "grid_string += \" 01 70 54 71 83 51 54 69 16 92 33 48 61 43 52 01 89 19 67 48\""
   ]
  },
  {
   "cell_type": "code",
   "execution_count": 7,
   "metadata": {
    "collapsed": true
   },
   "outputs": [],
   "source": [
    "split_grid = str.split(grid_string)"
   ]
  },
  {
   "cell_type": "code",
   "execution_count": 8,
   "metadata": {
    "collapsed": true
   },
   "outputs": [],
   "source": [
    "#create a 2d list of numbers\n",
    "grid = [[0 for x in range(20)] for y in range(20)]    \n",
    "index = 0\n",
    "for i in range(20):\n",
    "    for j in range(20):\n",
    "        grid[i][j] = int(split_grid[index])\n",
    "        index += 1"
   ]
  },
  {
   "cell_type": "code",
   "execution_count": 15,
   "metadata": {
    "collapsed": true
   },
   "outputs": [],
   "source": [
    "max_product = 0\n",
    "\n",
    "# test horizontal products\n",
    "for i in range(20):\n",
    "    for j in range(16):\n",
    "        temp = grid[i][j]*grid[i][j+1]*grid[i][j+2]*grid[i][j+3]\n",
    "        if temp > max_product:\n",
    "            max_product = temp\n",
    "\n",
    "# test vertical products\n",
    "for i in range(16):\n",
    "    for j in range(20):\n",
    "        temp = grid[i][j]*grid[i+1][j]*grid[i+2][j]*grid[i+3][j]\n",
    "        if temp > max_product:\n",
    "            max_product = temp\n",
    "\n",
    "# test diagonal products - this tests all 4 diagonals of every number on the grid\n",
    "# if the number is too close to the edge of the grid an error exception is called\n",
    "for i in range(20):\n",
    "    for j in range(20):\n",
    "        try:\n",
    "            up_right = grid[i][j]*grid[i+1][j+1]*grid[i+2][j+2]*grid[i+3][j+3]\n",
    "        except:\n",
    "            up_right = 0\n",
    "        try:\n",
    "            up_left = grid[i][j]*grid[i+1][j-1]*grid[i+2][j-2]*grid[i+3][j-3]\n",
    "        except:\n",
    "            up_left = 0\n",
    "        try:\n",
    "            down_right = grid[i][j]*grid[i-1][j+1]*grid[i-2][j+2]*grid[i-3][j+3]\n",
    "        except:\n",
    "            down_right = 0\n",
    "        try:\n",
    "            down_left = grid[i][j]*grid[i-1][j-1]*grid[i-2][j-2]*grid[i-3][j-3]\n",
    "        except:\n",
    "            down_left = 0\n",
    "        if up_right > max_product:\n",
    "            max_product = up_right\n",
    "        if up_left > max_product:\n",
    "            max_product = up_left\n",
    "        if down_right > max_product:\n",
    "            max_product = down_right\n",
    "        if down_left > max_product:\n",
    "            max_product = down_left\n",
    "            "
   ]
  },
  {
   "cell_type": "code",
   "execution_count": 16,
   "metadata": {},
   "outputs": [
    {
     "name": "stdout",
     "output_type": "stream",
     "text": [
      "70600674\n"
     ]
    }
   ],
   "source": [
    "print(max_product)"
   ]
  },
  {
   "cell_type": "markdown",
   "metadata": {
    "collapsed": true
   },
   "source": [
    "## Problem 12 - Highly divisible triangular number\n",
    "\n",
    "The sequence of triangle numbers is generated by adding the natural numbers. So the 7th triangle number would be 1 + 2 + 3 + 4 + 5 + 6 + 7 = 28. The first ten terms would be:\n",
    "\n",
    "1, 3, 6, 10, 15, 21, 28, 36, 45, 55, ...\n",
    "\n",
    "Let us list the factors of the first seven triangle numbers:\n",
    "\n",
    " 1: 1  \n",
    " 3: 1,3  \n",
    " 6: 1,2,3,6  \n",
    "10: 1,2,5,10  \n",
    "15: 1,3,5,15  \n",
    "21: 1,3,7,21  \n",
    "28: 1,2,4,7,14,28  \n",
    "We can see that 28 is the first triangle number to have over five divisors.\n",
    "\n",
    "What is the value of the first triangle number to have over five hundred divisors?\n",
    "\n",
    "\n",
    "## Problem 12 - Solution"
   ]
  },
  {
   "cell_type": "code",
   "execution_count": 9,
   "metadata": {
    "collapsed": true
   },
   "outputs": [],
   "source": [
    "import math\n",
    "# function to get the next triangle number\n",
    "def tri_number(n):\n",
    "    value = 0\n",
    "    for i in range(1,n+1):\n",
    "        value += i\n",
    "    return value    \n",
    "\n",
    "# function to return the divisors of a natural number\n",
    "def divisors(n):\n",
    "    divs = []\n",
    "    for i in range(1, int(math.sqrt(n))+1):\n",
    "        if n%i == 0:\n",
    "            if n/i == i :\n",
    "                divs.append(i)\n",
    "            else:\n",
    "                divs.append(i)\n",
    "                divs.append(n/i)\n",
    "    return divs            "
   ]
  },
  {
   "cell_type": "code",
   "execution_count": 13,
   "metadata": {},
   "outputs": [
    {
     "name": "stdout",
     "output_type": "stream",
     "text": [
      "76576500\n"
     ]
    }
   ],
   "source": [
    "n=0\n",
    "i = 1\n",
    "# loop to check each consecutive triangle number until one has over 500 divisors\n",
    "while n <= 500:\n",
    "    n = len(divisors(tri_number(i)))\n",
    "    i += 1\n",
    "print(tri_number(i-1))    "
   ]
  },
  {
   "cell_type": "markdown",
   "metadata": {
    "collapsed": true
   },
   "source": [
    "## Problem 13 - Large Sum\n",
    "\n",
    "Work out the first ten digits of the sum of the following one-hundred 50-digit numbers.  \n",
    "The numbers can be found in Large_sum.txt\n",
    "\n",
    "## Problem 13 - Solution"
   ]
  },
  {
   "cell_type": "code",
   "execution_count": 25,
   "metadata": {},
   "outputs": [
    {
     "name": "stdout",
     "output_type": "stream",
     "text": [
      "5537376230390876637302048746832985971773659831892672\n",
      "5537376230\n"
     ]
    }
   ],
   "source": [
    "#open the txt file\n",
    "f = open('Large_sum.txt', 'r')\n",
    "total = 0\n",
    "#set each line of the txt file as a number in the long int format\n",
    "for line in f:\n",
    "    total += long(line)\n",
    "f.close()\n",
    "print(total)\n",
    "print(str(total)[0:10])"
   ]
  },
  {
   "cell_type": "markdown",
   "metadata": {},
   "source": [
    "## Problem 14 - Longest Collatz sequence\n",
    "\n",
    "The following iterative sequence is defined for the set of positive integers:\n",
    "\n",
    "n → n/2 (n is even)\n",
    "n → 3n + 1 (n is odd)\n",
    "\n",
    "Using the rule above and starting with 13, we generate the following sequence:\n",
    "\n",
    "13 → 40 → 20 → 10 → 5 → 16 → 8 → 4 → 2 → 1\n",
    "It can be seen that this sequence (starting at 13 and finishing at 1) contains 10 terms. Although it has not been proved yet (Collatz Problem), it is thought that all starting numbers finish at 1.\n",
    "\n",
    "Which starting number, under one million, produces the longest chain?\n",
    "\n",
    "NOTE: Once the chain starts the terms are allowed to go above one million.\n",
    "\n",
    "## Problem 14 - Solution"
   ]
  },
  {
   "cell_type": "code",
   "execution_count": 3,
   "metadata": {
    "collapsed": true
   },
   "outputs": [],
   "source": [
    "#function that returns the collatz sequence as a list\n",
    "def collatz_sequence(n):\n",
    "    seq = [n]\n",
    "    tmp = n\n",
    "    while tmp > 1:\n",
    "        if tmp % 2 == 0:\n",
    "            tmp = tmp/2\n",
    "        else:\n",
    "            tmp = (3*tmp) + 1\n",
    "        seq.append(tmp)\n",
    "    return seq    "
   ]
  },
  {
   "cell_type": "code",
   "execution_count": 8,
   "metadata": {},
   "outputs": [
    {
     "name": "stdout",
     "output_type": "stream",
     "text": [
      "837799\n"
     ]
    }
   ],
   "source": [
    "max_length = []\n",
    "start_number = 0\n",
    "# loop to test the length of every collatz sequence from 1 million to 1\n",
    "for i in range(1000000, 1, -1):\n",
    "    tmp = collatz_sequence(i)\n",
    "    if len(tmp) > len(max_length):\n",
    "        max_length = tmp \n",
    "        start_number = tmp[0]\n",
    "print(start_number)        "
   ]
  },
  {
   "cell_type": "code",
   "execution_count": null,
   "metadata": {},
   "outputs": [],
   "source": []
  },
  {
   "cell_type": "code",
   "execution_count": null,
   "metadata": {
    "collapsed": true
   },
   "outputs": [],
   "source": []
  }
 ],
 "metadata": {
  "kernelspec": {
   "display_name": "Python 2",
   "language": "python",
   "name": "python2"
  },
  "language_info": {
   "codemirror_mode": {
    "name": "ipython",
    "version": 2
   },
   "file_extension": ".py",
   "mimetype": "text/x-python",
   "name": "python",
   "nbconvert_exporter": "python",
   "pygments_lexer": "ipython2",
   "version": "2.7.14"
  }
 },
 "nbformat": 4,
 "nbformat_minor": 2
}
