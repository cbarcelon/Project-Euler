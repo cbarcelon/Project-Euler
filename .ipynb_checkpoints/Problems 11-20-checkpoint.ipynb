{
 "cells": [
  {
   "cell_type": "markdown",
   "metadata": {},
   "source": [
    "## Problem 11 - Largest product in a grid\n",
    "\n",
    "In the 20×20 grid below, four numbers along a diagonal line have been marked in red.\n",
    "\n",
    "08 02 22 97 38 15 00 40 00 75 04 05 07 78 52 12 50 77 91 08  \n",
    "49 49 99 40 17 81 18 57 60 87 17 40 98 43 69 48 04 56 62 00  \n",
    "81 49 31 73 55 79 14 29 93 71 40 67 53 88 30 03 49 13 36 65  \n",
    "52 70 95 23 04 60 11 42 69 24 68 56 01 32 56 71 37 02 36 91  \n",
    "22 31 16 71 51 67 63 89 41 92 36 54 22 40 40 28 66 33 13 80  \n",
    "24 47 32 60 99 03 45 02 44 75 33 53 78 36 84 20 35 17 12 50  \n",
    "32 98 81 28 64 23 67 10 26 38 40 67 59 54 70 66 18 38 64 70  \n",
    "67 26 20 68 02 62 12 20 95 63 94 39 63 08 40 91 66 49 94 21  \n",
    "24 55 58 05 66 73 99 26 97 17 78 78 96 83 14 88 34 89 63 72  \n",
    "21 36 23 09 75 00 76 44 20 45 35 14 00 61 33 97 34 31 33 95  \n",
    "78 17 53 28 22 75 31 67 15 94 03 80 04 62 16 14 09 53 56 92  \n",
    "16 39 05 42 96 35 31 47 55 58 88 24 00 17 54 24 36 29 85 57  \n",
    "86 56 00 48 35 71 89 07 05 44 44 37 44 60 21 58 51 54 17 58  \n",
    "19 80 81 68 05 94 47 69 28 73 92 13 86 52 17 77 04 89 55 40  \n",
    "04 52 08 83 97 35 99 16 07 97 57 32 16 26 26 79 33 27 98 66  \n",
    "88 36 68 87 57 62 20 72 03 46 33 67 46 55 12 32 63 93 53 69  \n",
    "04 42 16 73 38 25 39 11 24 94 72 18 08 46 29 32 40 62 76 36  \n",
    "20 69 36 41 72 30 23 88 34 62 99 69 82 67 59 85 74 04 36 16  \n",
    "20 73 35 29 78 31 90 01 74 31 49 71 48 86 81 16 23 57 05 54  \n",
    "01 70 54 71 83 51 54 69 16 92 33 48 61 43 52 01 89 19 67 48  \n",
    "\n",
    "The product of these numbers is 26 × 63 × 78 × 14 = 1788696.\n",
    "\n",
    "What is the greatest product of four adjacent numbers in the same direction (up, down, left, right, or diagonally) in the 20×20 grid?\n",
    "\n",
    "\n",
    "## Problem 11 - Solution"
   ]
  },
  {
   "cell_type": "code",
   "execution_count": 6,
   "metadata": {
    "collapsed": true
   },
   "outputs": [],
   "source": [
    "import numpy as np\n",
    "grid_string = \"08 02 22 97 38 15 00 40 00 75 04 05 07 78 52 12 50 77 91 08\" \n",
    "grid_string += \" 49 49 99 40 17 81 18 57 60 87 17 40 98 43 69 48 04 56 62 00\"\n",
    "grid_string += \" 81 49 31 73 55 79 14 29 93 71 40 67 53 88 30 03 49 13 36 65\"\n",
    "grid_string += \" 52 70 95 23 04 60 11 42 69 24 68 56 01 32 56 71 37 02 36 91\"\n",
    "grid_string += \" 22 31 16 71 51 67 63 89 41 92 36 54 22 40 40 28 66 33 13 80\"\n",
    "grid_string += \" 24 47 32 60 99 03 45 02 44 75 33 53 78 36 84 20 35 17 12 50\"\n",
    "grid_string += \" 32 98 81 28 64 23 67 10 26 38 40 67 59 54 70 66 18 38 64 70\"\n",
    "grid_string += \" 67 26 20 68 02 62 12 20 95 63 94 39 63 08 40 91 66 49 94 21\"\n",
    "grid_string += \" 24 55 58 05 66 73 99 26 97 17 78 78 96 83 14 88 34 89 63 72\"\n",
    "grid_string += \" 21 36 23 09 75 00 76 44 20 45 35 14 00 61 33 97 34 31 33 95\"\n",
    "grid_string += \" 78 17 53 28 22 75 31 67 15 94 03 80 04 62 16 14 09 53 56 92\"\n",
    "grid_string += \" 16 39 05 42 96 35 31 47 55 58 88 24 00 17 54 24 36 29 85 57\"\n",
    "grid_string += \" 86 56 00 48 35 71 89 07 05 44 44 37 44 60 21 58 51 54 17 58\"\n",
    "grid_string += \" 19 80 81 68 05 94 47 69 28 73 92 13 86 52 17 77 04 89 55 40\"\n",
    "grid_string += \" 04 52 08 83 97 35 99 16 07 97 57 32 16 26 26 79 33 27 98 66\"\n",
    "grid_string += \" 88 36 68 87 57 62 20 72 03 46 33 67 46 55 12 32 63 93 53 69\"\n",
    "grid_string += \" 04 42 16 73 38 25 39 11 24 94 72 18 08 46 29 32 40 62 76 36\"\n",
    "grid_string += \" 20 69 36 41 72 30 23 88 34 62 99 69 82 67 59 85 74 04 36 16\"\n",
    "grid_string += \" 20 73 35 29 78 31 90 01 74 31 49 71 48 86 81 16 23 57 05 54\"\n",
    "grid_string += \" 01 70 54 71 83 51 54 69 16 92 33 48 61 43 52 01 89 19 67 48\""
   ]
  },
  {
   "cell_type": "code",
   "execution_count": 7,
   "metadata": {
    "collapsed": true
   },
   "outputs": [],
   "source": [
    "split_grid = str.split(grid_string)"
   ]
  },
  {
   "cell_type": "code",
   "execution_count": 8,
   "metadata": {
    "collapsed": true
   },
   "outputs": [],
   "source": [
    "#create a 2d list of numbers\n",
    "grid = [[0 for x in range(20)] for y in range(20)]    \n",
    "index = 0\n",
    "for i in range(20):\n",
    "    for j in range(20):\n",
    "        grid[i][j] = int(split_grid[index])\n",
    "        index += 1"
   ]
  },
  {
   "cell_type": "code",
   "execution_count": 15,
   "metadata": {
    "collapsed": true
   },
   "outputs": [],
   "source": [
    "max_product = 0\n",
    "\n",
    "# test horizontal products\n",
    "for i in range(20):\n",
    "    for j in range(16):\n",
    "        temp = grid[i][j]*grid[i][j+1]*grid[i][j+2]*grid[i][j+3]\n",
    "        if temp > max_product:\n",
    "            max_product = temp\n",
    "\n",
    "# test vertical products\n",
    "for i in range(16):\n",
    "    for j in range(20):\n",
    "        temp = grid[i][j]*grid[i+1][j]*grid[i+2][j]*grid[i+3][j]\n",
    "        if temp > max_product:\n",
    "            max_product = temp\n",
    "\n",
    "# test diagonal products - this tests all 4 diagonals of every number on the grid\n",
    "# if the number is too close to the edge of the grid an error exception is called\n",
    "for i in range(20):\n",
    "    for j in range(20):\n",
    "        try:\n",
    "            up_right = grid[i][j]*grid[i+1][j+1]*grid[i+2][j+2]*grid[i+3][j+3]\n",
    "        except:\n",
    "            up_right = 0\n",
    "        try:\n",
    "            up_left = grid[i][j]*grid[i+1][j-1]*grid[i+2][j-2]*grid[i+3][j-3]\n",
    "        except:\n",
    "            up_left = 0\n",
    "        try:\n",
    "            down_right = grid[i][j]*grid[i-1][j+1]*grid[i-2][j+2]*grid[i-3][j+3]\n",
    "        except:\n",
    "            down_right = 0\n",
    "        try:\n",
    "            down_left = grid[i][j]*grid[i-1][j-1]*grid[i-2][j-2]*grid[i-3][j-3]\n",
    "        except:\n",
    "            down_left = 0\n",
    "        if up_right > max_product:\n",
    "            max_product = up_right\n",
    "        if up_left > max_product:\n",
    "            max_product = up_left\n",
    "        if down_right > max_product:\n",
    "            max_product = down_right\n",
    "        if down_left > max_product:\n",
    "            max_product = down_left\n",
    "            "
   ]
  },
  {
   "cell_type": "code",
   "execution_count": 16,
   "metadata": {},
   "outputs": [
    {
     "name": "stdout",
     "output_type": "stream",
     "text": [
      "70600674\n"
     ]
    }
   ],
   "source": [
    "print(max_product)"
   ]
  },
  {
   "cell_type": "markdown",
   "metadata": {
    "collapsed": true
   },
   "source": [
    "## Problem 12 - Highly divisible triangular number\n",
    "\n",
    "The sequence of triangle numbers is generated by adding the natural numbers. So the 7th triangle number would be 1 + 2 + 3 + 4 + 5 + 6 + 7 = 28. The first ten terms would be:\n",
    "\n",
    "1, 3, 6, 10, 15, 21, 28, 36, 45, 55, ...\n",
    "\n",
    "Let us list the factors of the first seven triangle numbers:\n",
    "\n",
    " 1: 1  \n",
    " 3: 1,3  \n",
    " 6: 1,2,3,6  \n",
    "10: 1,2,5,10  \n",
    "15: 1,3,5,15  \n",
    "21: 1,3,7,21  \n",
    "28: 1,2,4,7,14,28  \n",
    "We can see that 28 is the first triangle number to have over five divisors.\n",
    "\n",
    "What is the value of the first triangle number to have over five hundred divisors?\n",
    "\n",
    "\n",
    "## Problem 12 - Solution"
   ]
  },
  {
   "cell_type": "code",
   "execution_count": 9,
   "metadata": {
    "collapsed": true
   },
   "outputs": [],
   "source": [
    "import math\n",
    "# function to get the next triangle number\n",
    "def tri_number(n):\n",
    "    value = 0\n",
    "    for i in range(1,n+1):\n",
    "        value += i\n",
    "    return value    \n",
    "\n",
    "# function to return the divisors of a natural number\n",
    "def divisors(n):\n",
    "    divs = []\n",
    "    for i in range(1, int(math.sqrt(n))+1):\n",
    "        if n%i == 0:\n",
    "            if n/i == i :\n",
    "                divs.append(i)\n",
    "            else:\n",
    "                divs.append(i)\n",
    "                divs.append(n/i)\n",
    "    return divs            "
   ]
  },
  {
   "cell_type": "code",
   "execution_count": 13,
   "metadata": {},
   "outputs": [
    {
     "name": "stdout",
     "output_type": "stream",
     "text": [
      "76576500\n"
     ]
    }
   ],
   "source": [
    "n=0\n",
    "i = 1\n",
    "# loop to check each consecutive triangle number until one has over 500 divisors\n",
    "while n <= 500:\n",
    "    n = len(divisors(tri_number(i)))\n",
    "    i += 1\n",
    "print(tri_number(i-1))    "
   ]
  },
  {
   "cell_type": "markdown",
   "metadata": {
    "collapsed": true
   },
   "source": [
    "## Problem 13 - Large Sum\n",
    "\n",
    "Work out the first ten digits of the sum of the following one-hundred 50-digit numbers.  \n",
    "The numbers can be found in Large_sum.txt\n",
    "\n",
    "## Problem 13 - Solution"
   ]
  },
  {
   "cell_type": "code",
   "execution_count": 25,
   "metadata": {},
   "outputs": [
    {
     "name": "stdout",
     "output_type": "stream",
     "text": [
      "5537376230390876637302048746832985971773659831892672\n",
      "5537376230\n"
     ]
    }
   ],
   "source": [
    "#open the txt file\n",
    "f = open('Large_sum.txt', 'r')\n",
    "total = 0\n",
    "#set each line of the txt file as a number in the long int format\n",
    "for line in f:\n",
    "    total += long(line)\n",
    "f.close()\n",
    "print(total)\n",
    "print(str(total)[0:10])"
   ]
  },
  {
   "cell_type": "markdown",
   "metadata": {},
   "source": [
    "## Problem 14 - Longest Collatz sequence\n",
    "\n",
    "The following iterative sequence is defined for the set of positive integers:\n",
    "\n",
    "n → n/2 (n is even)\n",
    "n → 3n + 1 (n is odd)\n",
    "\n",
    "Using the rule above and starting with 13, we generate the following sequence:\n",
    "\n",
    "13 → 40 → 20 → 10 → 5 → 16 → 8 → 4 → 2 → 1\n",
    "It can be seen that this sequence (starting at 13 and finishing at 1) contains 10 terms. Although it has not been proved yet (Collatz Problem), it is thought that all starting numbers finish at 1.\n",
    "\n",
    "Which starting number, under one million, produces the longest chain?\n",
    "\n",
    "NOTE: Once the chain starts the terms are allowed to go above one million.\n",
    "\n",
    "## Problem 14 - Solution"
   ]
  },
  {
   "cell_type": "code",
   "execution_count": 3,
   "metadata": {
    "collapsed": true
   },
   "outputs": [],
   "source": [
    "#function that returns the collatz sequence as a list\n",
    "def collatz_sequence(n):\n",
    "    seq = [n]\n",
    "    tmp = n\n",
    "    while tmp > 1:\n",
    "        if tmp % 2 == 0:\n",
    "            tmp = tmp/2\n",
    "        else:\n",
    "            tmp = (3*tmp) + 1\n",
    "        seq.append(tmp)\n",
    "    return seq    "
   ]
  },
  {
   "cell_type": "code",
   "execution_count": 8,
   "metadata": {},
   "outputs": [
    {
     "name": "stdout",
     "output_type": "stream",
     "text": [
      "837799\n"
     ]
    }
   ],
   "source": [
    "max_length = []\n",
    "start_number = 0\n",
    "# loop to test the length of every collatz sequence from 1 million to 1\n",
    "for i in range(1000000, 1, -1):\n",
    "    tmp = collatz_sequence(i)\n",
    "    if len(tmp) > len(max_length):\n",
    "        max_length = tmp \n",
    "        start_number = tmp[0]\n",
    "print(start_number)        "
   ]
  },
  {
   "cell_type": "markdown",
   "metadata": {},
   "source": [
    "## Problem 15 - Lattice paths\n",
    "\n",
    "Starting in the top left corner of a 2×2 grid, and only being able to move to the right and down, there are exactly 6 routes to the bottom right corner.\n",
    "\n",
    "\n",
    "How many such routes are there through a 20×20 grid?\n",
    "\n",
    "## Problem 15 - Solution"
   ]
  },
  {
   "cell_type": "markdown",
   "metadata": {
    "collapsed": true
   },
   "source": [
    "It takes 40 moves to get from one corner to the other, and 20 of those moves must be right and 20 down. Knowing this number of possible routes can be calculated as 40 choose 20 or C(40,20) the formula for C(n,r) is n!/(r!(n-r)! = 40!/(20!(40-20)!)"
   ]
  },
  {
   "cell_type": "code",
   "execution_count": 10,
   "metadata": {},
   "outputs": [
    {
     "name": "stdout",
     "output_type": "stream",
     "text": [
      "137846528820\n"
     ]
    }
   ],
   "source": [
    "import math\n",
    "print(math.factorial(40)/(math.factorial(20))**2)"
   ]
  },
  {
   "cell_type": "markdown",
   "metadata": {
    "collapsed": true
   },
   "source": [
    "## Problem 16 - Power Digit Sum\n",
    "\n",
    "2<sup>15</sup> = 32768 and the sum of its digits is 3 + 2 + 7 + 6 + 8 = 26.\n",
    "\n",
    "What is the sum of the digits of the number 2<sup>1000</sup>?"
   ]
  },
  {
   "cell_type": "code",
   "execution_count": 1,
   "metadata": {},
   "outputs": [
    {
     "name": "stdout",
     "output_type": "stream",
     "text": [
      "1366\n"
     ]
    }
   ],
   "source": [
    "#calculate 2^1000\n",
    "num = 2**1000\n",
    "#convert to number to a string so it's digits can be parsed\n",
    "digits = str(num)\n",
    "sum = 0\n",
    "#loop through the digits of the number adding each digit to a running sum\n",
    "for i in digits:\n",
    "    sum += int(i)\n",
    "print(sum)    "
   ]
  },
  {
   "cell_type": "markdown",
   "metadata": {
    "collapsed": true
   },
   "source": [
    "## Problem 17 - Number letter counts\n",
    "\n",
    "If the numbers 1 to 5 are written out in words: one, two, three, four, five, then there are 3 + 3 + 5 + 4 + 4 = 19 letters used in total.\n",
    "\n",
    "If all the numbers from 1 to 1000 (one thousand) inclusive were written out in words, how many letters would be used?\n",
    "\n",
    "\n",
    "NOTE: Do not count spaces or hyphens. For example, 342 (three hundred and forty-two) contains 23 letters and 115 (one hundred and fifteen) contains 20 letters. The use of \"and\" when writing out numbers is in compliance with British usage.\n",
    "\n",
    "## Problem 17 - Solution"
   ]
  },
  {
   "cell_type": "code",
   "execution_count": 49,
   "metadata": {},
   "outputs": [
    {
     "name": "stdout",
     "output_type": "stream",
     "text": [
      "21124\n"
     ]
    }
   ],
   "source": [
    "def count_letters(n):\n",
    "    number = n\n",
    "    count = 0\n",
    "    single_digit = ['', 'one', 'two', 'three', 'four', 'five', 'six', 'seven', 'eight', 'nine']\n",
    "    double = ['ten', 'eleven', 'twelve', 'thirteen', 'fourteen', 'fifteen', 'sixteen', 'seventeen', 'eighteen', 'nineteen']\n",
    "    tens = ['twenty', 'thirty', 'forty', 'fifty', 'sixty', 'seventy', 'eighty', 'ninety']\n",
    "    hundreds = ['onehundredand', 'twohundredand', 'threehundredand', 'fourhundredand', 'fivehundredand', 'sixhundredand',\n",
    "               'sevenhundredand', 'eighthundredand', 'ninehundredand']\n",
    "    while number > 0:\n",
    "        if number < 10:\n",
    "            count += len(single_digit[number])\n",
    "            number = 0\n",
    "        \n",
    "        if number >= 10 and number < 20:\n",
    "            count += len(double[number - 10])\n",
    "            number = 0\n",
    "        \n",
    "        if number >= 20 and number < 100:\n",
    "            tmp = str(number)\n",
    "            tmp2 = int(tmp[0])\n",
    "            count += len(tens[tmp2-2])\n",
    "            number = int(tmp[1])\n",
    "\n",
    "        if number >= 100 and number < 1000:\n",
    "            tmp = str(number)\n",
    "            tmp2 = int(tmp[0])\n",
    "            count += len(hundreds[tmp2 - 1])\n",
    "            number = int(tmp[1:3])\n",
    "        \n",
    "        if number == 1000:\n",
    "            count += len('onethousand')\n",
    "            number = 0\n",
    "    return count\n",
    "sum = 0\n",
    "for i in range(1, 1001):\n",
    "    sum += count_letters(i)\n",
    "print(sum-27)    "
   ]
  },
  {
   "cell_type": "markdown",
   "metadata": {},
   "source": [
    "## Problem 18 - Maximum path sum I\n",
    "\n",
    "By starting at the top of the triangle below and moving to adjacent numbers on the row below, the maximum total from top to bottom is 23.\n",
    "\n",
    "3\n",
    "7 4\n",
    "2 4 6\n",
    "8 5 9 3\n",
    "\n",
    "That is, 3 + 7 + 4 + 9 = 23.\n",
    "\n",
    "Find the maximum total from top to bottom of the triangle below:\n",
    "\n",
    "75  \n",
    "95 64  \n",
    "17 47 82  \n",
    "18 35 87 10  \n",
    "20 04 82 47 65  \n",
    "19 01 23 75 03 34  \n",
    "88 02 77 73 07 63 67  \n",
    "99 65 04 28 06 16 70 92  \n",
    "41 41 26 56 83 40 80 70 33  \n",
    "41 48 72 33 47 32 37 16 94 29  \n",
    "53 71 44 65 25 43 91 52 97 51 14  \n",
    "70 11 33 28 77 73 17 78 39 68 17 57  \n",
    "91 71 52 38 17 14 91 43 58 50 27 29 48  \n",
    "63 66 04 68 89 53 67 30 73 16 69 87 40 31  \n",
    "04 62 98 27 23 09 70 98 73 93 38 53 60 04 23  \n",
    "\n",
    "NOTE: As there are only 16384 routes, it is possible to solve this problem by trying every route. However, Problem 67, is the same challenge with a triangle containing one-hundred rows; it cannot be solved by brute force, and requires a clever method! ;o)\n",
    "\n",
    "## Problem 18 - Solution"
   ]
  },
  {
   "cell_type": "code",
   "execution_count": 1,
   "metadata": {
    "collapsed": true
   },
   "outputs": [],
   "source": [
    "f = open('Problem18.txt', 'r')\n",
    "triangle = []\n",
    "#set each line of the txt file as a number in the long int format\n",
    "for line in f:\n",
    "    triangle.append([int(i) for i in line.split(\" \")])\n",
    "f.close()\n",
    "\n",
    "for i,j in [(i,j) for i in range(len(triangle)-2,-1,-1) for j in range(i+1)]:\n",
    "    triangle[i][j] +=  max([triangle[i+1][j],triangle[i+1][j+1]])"
   ]
  },
  {
   "cell_type": "code",
   "execution_count": 2,
   "metadata": {},
   "outputs": [
    {
     "name": "stdout",
     "output_type": "stream",
     "text": [
      "[1074]\n"
     ]
    }
   ],
   "source": [
    "print(triangle[0])"
   ]
  },
  {
   "cell_type": "markdown",
   "metadata": {
    "collapsed": true
   },
   "source": [
    "## Problem 19 - Counting Sundays\n",
    "\n",
    "You are given the following information, but you may prefer to do some research for yourself.\n",
    "\n",
    "1 Jan 1900 was a Monday.  \n",
    "Thirty days has September,  \n",
    "April, June and November.  \n",
    "All the rest have thirty-one,  \n",
    "Saving February alone,  \n",
    "Which has twenty-eight, rain or shine.  \n",
    "And on leap years, twenty-nine.  \n",
    "A leap year occurs on any year evenly divisible by 4, but not on a century unless it is divisible by 400.  \n",
    "How many Sundays fell on the first of the month during the twentieth century (1 Jan 1901 to 31 Dec 2000)?\n",
    "\n",
    "## Problem 19 - Solution"
   ]
  },
  {
   "cell_type": "code",
   "execution_count": 49,
   "metadata": {
    "collapsed": true
   },
   "outputs": [],
   "source": [
    "days = []\n",
    "Sundays = 0\n",
    "day_count = 2\n",
    "#years\n",
    "for i in range(1,101):\n",
    "    #January\n",
    "    for day in range(1,32):\n",
    "        days.append([1,day,1900+i,day_count%7==0])\n",
    "        day_count+=1\n",
    "    #February\n",
    "    if 1900+i%4==0:\n",
    "        for day in range(1,30):\n",
    "            days.append([2,day,1900+i,day_count%7==0])\n",
    "            day_count+=1\n",
    "    else:\n",
    "        for day in range(1,29):\n",
    "            days.append([2,day,1900+i,day_count%7==0])\n",
    "            day_count+=1\n",
    "    #March\n",
    "    for day in range(1,32):\n",
    "        days.append([3,day,1900+i,day_count%7==0])\n",
    "        day_count+=1\n",
    "    #April\n",
    "    for day in range(1,31):\n",
    "        days.append([4,day,1900+i,day_count%7==0])\n",
    "        day_count+=1\n",
    "    #May\n",
    "    for day in range(1,32):\n",
    "        days.append([5,day,1900+i,day_count%7==0])\n",
    "        day_count+=1\n",
    "    #June\n",
    "    for day in range(1,31):\n",
    "        days.append([6,day,1900+i,day_count%7==0])\n",
    "        day_count+=1\n",
    "    #July\n",
    "    for day in range(1,32):\n",
    "        days.append([7,day,1900+i,day_count%7==0])\n",
    "        day_count+=1\n",
    "    #Augest\n",
    "    for day in range(1,32):\n",
    "        days.append([8,day,1900+i,day_count%7==0])\n",
    "        day_count+=1\n",
    "    #September\n",
    "    for day in range(1,31):\n",
    "        days.append([9,day,1900+i,day_count%7==0])\n",
    "        day_count+=1\n",
    "    #October\n",
    "    for day in range(1,32):\n",
    "        days.append([10,day,1900+i,day_count%7==0])\n",
    "        day_count+=1\n",
    "    #November\n",
    "    for day in range(1,31):\n",
    "        days.append([11,day,1900+i,day_count%7==0])\n",
    "        day_count+=1\n",
    "    #December\n",
    "    for day in range(1,32):\n",
    "        days.append([12,day,1900+i,day_count%7==0])\n",
    "        day_count+=1"
   ]
  },
  {
   "cell_type": "code",
   "execution_count": 50,
   "metadata": {},
   "outputs": [
    {
     "name": "stdout",
     "output_type": "stream",
     "text": [
      "171\n"
     ]
    }
   ],
   "source": [
    "Sundays=0\n",
    "for day in days:\n",
    "    if day[1] == 1 and day[3] == True:\n",
    "        Sundays += 1\n",
    "print(Sundays)        "
   ]
  },
  {
   "cell_type": "markdown",
   "metadata": {},
   "source": [
    "## Problem 20 - Factorial digit sum\n",
    "\n",
    "n! means n × (n − 1) × ... × 3 × 2 × 1\n",
    "\n",
    "For example, 10! = 10 × 9 × ... × 3 × 2 × 1 = 3628800,\n",
    "and the sum of the digits in the number 10! is 3 + 6 + 2 + 8 + 8 + 0 + 0 = 27.\n",
    "\n",
    "Find the sum of the digits in the number 100!\n",
    "\n",
    "## Problem 20 - Solution"
   ]
  },
  {
   "cell_type": "code",
   "execution_count": null,
   "metadata": {
    "collapsed": true
   },
   "outputs": [],
   "source": []
  }
 ],
 "metadata": {
  "kernelspec": {
   "display_name": "Python 2",
   "language": "python",
   "name": "python2"
  },
  "language_info": {
   "codemirror_mode": {
    "name": "ipython",
    "version": 2
   },
   "file_extension": ".py",
   "mimetype": "text/x-python",
   "name": "python",
   "nbconvert_exporter": "python",
   "pygments_lexer": "ipython2",
   "version": "2.7.13"
  }
 },
 "nbformat": 4,
 "nbformat_minor": 2
}
