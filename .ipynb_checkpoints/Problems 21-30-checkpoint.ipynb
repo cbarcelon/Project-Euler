{
 "cells": [
  {
   "cell_type": "markdown",
   "metadata": {},
   "source": [
    "## Problem 21 - Amicable numbers\n",
    "\n",
    "Let d(n) be defined as the sum of proper divisors of n (numbers less than n which divide evenly into n).\n",
    "If d(a) = b and d(b) = a, where a ≠ b, then a and b are an amicable pair and each of a and b are called amicable numbers.\n",
    "\n",
    "For example, the proper divisors of 220 are 1, 2, 4, 5, 10, 11, 20, 22, 44, 55 and 110; therefore d(220) = 284. The proper divisors of 284 are 1, 2, 4, 71 and 142; so d(284) = 220.\n",
    "\n",
    "Evaluate the sum of all the amicable numbers under 10000.\n",
    "\n",
    "## Problem 21 - Solution"
   ]
  },
  {
   "cell_type": "code",
   "execution_count": 22,
   "metadata": {},
   "outputs": [
    {
     "name": "stdout",
     "output_type": "stream",
     "text": [
      "31626\n",
      "2.3234265545\n"
     ]
    }
   ],
   "source": [
    "import math, time\n",
    "def get_proper_divisors(n):\n",
    "    divisors = []\n",
    "    for i in range(1,(n/2)+1):\n",
    "        if n%i == 0:\n",
    "            divisors.append(i)\n",
    "    return divisors\n",
    "amicable = []\n",
    "s = time.clock() \n",
    "for i in range(1, 10001):\n",
    "    tmp = get_proper_divisors(i)\n",
    "    tmp2 = get_proper_divisors(sum(tmp))\n",
    "    if sum(tmp2) == i and sum(tmp) != i:\n",
    "        if i not in amicable:\n",
    "            amicable.append(i)\n",
    "print(sum(amicable))\n",
    "e = time.clock()\n",
    "print(e-s)"
   ]
  },
  {
   "cell_type": "markdown",
   "metadata": {},
   "source": [
    "## Problem 22 - Names Scores\n",
    "\n",
    "Using names.txt (right click and 'Save Link/Target As...'), a 46K text file containing over five-thousand first names, begin by sorting it into alphabetical order. Then working out the alphabetical value for each name, multiply this value by its alphabetical position in the list to obtain a name score.  \n",
    "\n",
    "For example, when the list is sorted into alphabetical order, COLIN, which is worth 3 + 15 + 12 + 9 + 14 = 53, is the 938th name in the list. So, COLIN would obtain a score of 938 × 53 = 49714.\n",
    "\n",
    "What is the total of all the name scores in the file?\n",
    "\n",
    "## Problem 22 - Solution"
   ]
  },
  {
   "cell_type": "code",
   "execution_count": 4,
   "metadata": {
    "collapsed": true
   },
   "outputs": [],
   "source": [
    "names = []\n",
    "f = open('./p022_names.txt', 'r')\n",
    "s = f.readline()\n",
    "f.close()    "
   ]
  },
  {
   "cell_type": "code",
   "execution_count": 18,
   "metadata": {
    "collapsed": true
   },
   "outputs": [],
   "source": [
    "names = s.split(',')\n",
    "Names = []\n",
    "for name in names:\n",
    "    Names.append(name.strip('\\\"'))\n",
    "Names.sort()    "
   ]
  },
  {
   "cell_type": "code",
   "execution_count": 26,
   "metadata": {},
   "outputs": [
    {
     "name": "stdout",
     "output_type": "stream",
     "text": [
      "871198282\n"
     ]
    }
   ],
   "source": [
    "total = 0\n",
    "count = 1\n",
    "for name in Names:\n",
    "    name_sum = 0\n",
    "    for i in name:\n",
    "        name_sum += (ord(i)-64)\n",
    "    total += (name_sum*count)\n",
    "    count += 1\n",
    "print(total)\n",
    "        "
   ]
  },
  {
   "cell_type": "markdown",
   "metadata": {},
   "source": [
    "## Problem 23 - Non-abundant sums\n",
    "\n",
    "A perfect number is a number for which the sum of its proper divisors is exactly equal to the number. For example, the sum of the proper divisors of 28 would be 1 + 2 + 4 + 7 + 14 = 28, which means that 28 is a perfect number.\n",
    "\n",
    "A number n is called deficient if the sum of its proper divisors is less than n and it is called abundant if this sum exceeds n.\n",
    "\n",
    "As 12 is the smallest abundant number, 1 + 2 + 3 + 4 + 6 = 16, the smallest number that can be written as the sum of two abundant numbers is 24. By mathematical analysis, it can be shown that all integers greater than 28123 can be written as the sum of two abundant numbers. However, this upper limit cannot be reduced any further by analysis even though it is known that the greatest number that cannot be expressed as the sum of two abundant numbers is less than this limit.\n",
    "\n",
    "Find the sum of all the positive integers which cannot be written as the sum of two abundant numbers.\n",
    "\n",
    "## Problem 23 - Solution"
   ]
  },
  {
   "cell_type": "code",
   "execution_count": 8,
   "metadata": {
    "collapsed": true
   },
   "outputs": [],
   "source": [
    "import math, time\n",
    "def get_proper_divisors(n):\n",
    "    divisors = []\n",
    "    for i in range(1,(n/2)+1):\n",
    "        if n%i == 0:\n",
    "            divisors.append(i)\n",
    "    return divisors\n",
    "\n",
    "nums = [i for i in range(1,28124)]\n",
    "abundant = []\n",
    "for i in range(1,28123):\n",
    "    if sum(get_proper_divisors(i)) > i:\n",
    "        abundant.append(i)"
   ]
  },
  {
   "cell_type": "code",
   "execution_count": 10,
   "metadata": {
    "collapsed": true
   },
   "outputs": [],
   "source": [
    "for i in abundant:\n",
    "    for j in abundant:\n",
    "        tmp = i+j\n",
    "        if tmp > 28123:\n",
    "            break\n",
    "        if tmp in nums:\n",
    "            nums.remove(tmp)    "
   ]
  },
  {
   "cell_type": "code",
   "execution_count": 12,
   "metadata": {},
   "outputs": [
    {
     "name": "stdout",
     "output_type": "stream",
     "text": [
      "4179871\n"
     ]
    }
   ],
   "source": [
    "print(sum(nums))"
   ]
  },
  {
   "cell_type": "markdown",
   "metadata": {},
   "source": [
    "## Problem 24 - Lexicographic permutations\n",
    "\n",
    "A permutation is an ordered arrangement of objects. For example, 3124 is one possible permutation of the digits 1, 2, 3 and 4. If all of the permutations are listed numerically or alphabetically, we call it lexicographic order. The lexicographic permutations of 0, 1 and 2 are:\n",
    "\n",
    "012   021   102   120   201   210\n",
    "\n",
    "What is the millionth lexicographic permutation of the digits 0, 1, 2, 3, 4, 5, 6, 7, 8 and 9?\n",
    "\n",
    "## Problem 24 Solution"
   ]
  },
  {
   "cell_type": "code",
   "execution_count": 12,
   "metadata": {},
   "outputs": [
    {
     "name": "stdout",
     "output_type": "stream",
     "text": [
      "('2', '7', '8', '3', '9', '1', '5', '4', '6', '0')\n",
      "1.34310609538\n"
     ]
    }
   ],
   "source": [
    "import time\n",
    "from itertools import combinations\n",
    "#Brute force solution\n",
    "#Calculate all permutations and save them in an ordered list\n",
    "#print the 1 millionth permutation\n",
    "permutations = []\n",
    "s = time.clock()\n",
    "for perm in itertools.permutations('0123456789', 10):\n",
    "    permutations.append(perm)\n",
    "e = time.clock()\n",
    "print(permutations[999999])\n",
    "print(e-s)"
   ]
  },
  {
   "cell_type": "markdown",
   "metadata": {},
   "source": [
    "## Problem 25 - 1000-digit Fibonacci number\n",
    "\n",
    "The Fibonacci sequence is defined by the recurrence relation:\n",
    "\n",
    "Fn = Fn−1 + Fn−2, where F1 = 1 and F2 = 1.  \n",
    "Hence the first 12 terms will be:  \n",
    "\n",
    "F1 = 1  \n",
    "F2 = 1  \n",
    "F3 = 2  \n",
    "F4 = 3  \n",
    "F5 = 5  \n",
    "F6 = 8  \n",
    "F7 = 13  \n",
    "F8 = 21  \n",
    "F9 = 34  \n",
    "F10 = 55  \n",
    "F11 = 89  \n",
    "F12 = 144  \n",
    "The 12th term, F12, is the first term to contain three digits.  \n",
    "\n",
    "What is the index of the first term in the Fibonacci sequence to contain 1000 digits?"
   ]
  },
  {
   "cell_type": "code",
   "execution_count": 9,
   "metadata": {},
   "outputs": [
    {
     "name": "stdout",
     "output_type": "stream",
     "text": [
      "4782\n",
      "0.044379507139\n"
     ]
    }
   ],
   "source": [
    "import time\n",
    "def getnextfib(f1, f2):\n",
    "    return f1+f2\n",
    "#brute force find fib numbers until one has 1000 digits track index with a counter\n",
    "index = 2\n",
    "fib1 = 1\n",
    "fib2 = 1\n",
    "tmp = 0\n",
    "s = time.clock()\n",
    "while len(str(tmp)) < 1000:\n",
    "    tmp = getnextfib(fib1,fib2)\n",
    "    fib1 = fib2\n",
    "    fib2 = tmp\n",
    "    index += 1\n",
    "print(index)\n",
    "e = time.clock()\n",
    "print(e-s)"
   ]
  },
  {
   "cell_type": "markdown",
   "metadata": {},
   "source": [
    "## Problem 26 - Recipricol cycles\n",
    "\n",
    "A unit fraction contains 1 in the numerator. The decimal representation of the unit fractions with denominators 2 to 10 are given:\n",
    "\n",
    "1/2\t= \t0.5\n",
    "1/3\t= \t0.(3)\n",
    "1/4\t= \t0.25\n",
    "1/5\t= \t0.2\n",
    "1/6\t= \t0.1(6)\n",
    "1/7\t= \t0.(142857)\n",
    "1/8\t= \t0.125\n",
    "1/9\t= \t0.(1)\n",
    "1/10\t= \t0.1\n",
    "Where 0.1(6) means 0.166666..., and has a 1-digit recurring cycle. It can be seen that 1/7 has a 6-digit recurring cycle.\n",
    "\n",
    "Find the value of d < 1000 for which 1/d contains the longest recurring cycle in its decimal fraction part.\n",
    "\n",
    "## Problem 26 - Solution"
   ]
  },
  {
   "cell_type": "code",
   "execution_count": 3,
   "metadata": {},
   "outputs": [
    {
     "name": "stdout",
     "output_type": "stream",
     "text": [
      "The longest recurring cycle for 1/d where d <1000\n",
      "is d = 983\n"
     ]
    }
   ],
   "source": [
    "def prime_sieve(n):\n",
    "    sieve = [True] * (n//2)\n",
    "    for i in xrange(3,int(n**0.5)+1,2):\n",
    "        if sieve[i//2]:\n",
    "            sieve[i*i//2::i] = [False] * ((n-i*i-1)//(2*i)+1)\n",
    "    return [2] + [2*i+1 for i in xrange(1,n//2) if sieve[i]]\n",
    "\n",
    "\n",
    "def f(N):\n",
    "    if N < 8: return 3\n",
    "    for d in prime_sieve(N)[::-1]:\n",
    "        period = 1\n",
    "        while pow(10, period) % d != 1: period += 1\n",
    "        if d-1 == period: return d\n",
    "  \n",
    "N = int(input('The longest recurring cycle for 1/d where d <'))\n",
    "print \"is d =\", f(N)"
   ]
  },
  {
   "cell_type": "markdown",
   "metadata": {},
   "source": [
    "## Problem 27 - Quadratic primes\n",
    "\n",
    "Euler discovered the remarkable quadratic formula:  \n",
    "n2+n+41  \n",
    "It turns out that the formula will produce 40 primes for the consecutive integer values 0≤n≤39. However, when n=40,40<sup>2</sup>+40+41=40(40+1)+41 is divisible by 41, and certainly when n=41,412+41+41 is clearly divisible by 41.  \n",
    "\n",
    "The incredible formula n<sup>2</sup>−79n+1601 was discovered, which produces 80 primes for the consecutive values 0≤n≤79. The product of the coefficients, −79 and 1601, is −126479.  \n",
    "\n",
    "Considering quadratics of the form:  \n",
    "\n",
    "n<sup>2</sup>+an+b, where |a|<1000 and |b|≤1000  \n",
    "\n",
    "where |n| is the modulus/absolute value of n  \n",
    "e.g. |11|=11 and |−4|=4  \n",
    "Find the product of the coefficients, a and b, for the quadratic expression that produces the maximum number of primes for consecutive values of n, starting with n=0.\n",
    "\n",
    "\n",
    "## Problem 27 - Solution"
   ]
  },
  {
   "cell_type": "code",
   "execution_count": 11,
   "metadata": {},
   "outputs": [
    {
     "name": "stdout",
     "output_type": "stream",
     "text": [
      "(-61, 971, -59231, 71)\n",
      "3.35293599133\n"
     ]
    }
   ],
   "source": [
    "import math, time\n",
    "def isprime(n):\n",
    "    if n <= 0:\n",
    "        return False\n",
    "    if n == 1:\n",
    "        return False\n",
    "    elif n < 4:\n",
    "        return True\n",
    "    elif n%2 == 0:\n",
    "        return False\n",
    "    elif n < 9:\n",
    "        return True\n",
    "    elif n%3 == 0:\n",
    "        return False\n",
    "    else:\n",
    "        r = math.floor(math.sqrt(n))\n",
    "        f = 5\n",
    "        while f <= r:\n",
    "            if n%f == 0:\n",
    "                return False\n",
    "            if n%(f+2) == 0:\n",
    "                return False\n",
    "            f=f+6\n",
    "        return True\n",
    "\n",
    "# Brute force solution, loop through all values possible of a and b, check how many consectutive primes the quadratic equation\n",
    "# has, save the a and b with the max number of consecutive primes.\n",
    "s = time.clock()    \n",
    "consecutive_primes = 0\n",
    "for a in range(-1000,1000):\n",
    "    for b in range(-1000,1001):\n",
    "        if isprime(abs(b)):\n",
    "            n = 1\n",
    "            tmp = 1\n",
    "            while isprime(n**2+a*n + b):\n",
    "                tmp += 1\n",
    "                n += 1\n",
    "            if tmp > consecutive_primes:\n",
    "                consecutive_primes = tmp\n",
    "                acoef = a\n",
    "                bcoef = b\n",
    "print(acoef,bcoef,acoef*bcoef,consecutive_primes)\n",
    "e = time.clock()\n",
    "print(e-s)"
   ]
  },
  {
   "cell_type": "markdown",
   "metadata": {},
   "source": [
    "## Problem 28 - Number spiral diagonals\n",
    "\n",
    "tarting with the number 1 and moving to the right in a clockwise direction a 5 by 5 spiral is formed as follows:\n",
    "\n",
    "21 22 23 24 25\n",
    "20  7  8  9 10\n",
    "19  6  1  2 11\n",
    "18  5  4  3 12\n",
    "17 16 15 14 13\n",
    "\n",
    "It can be verified that the sum of the numbers on the diagonals is 101.\n",
    "\n",
    "What is the sum of the numbers on the diagonals in a 1001 by 1001 spiral formed in the same way?\n",
    "\n",
    "## Problem 28 - Solution"
   ]
  },
  {
   "cell_type": "code",
   "execution_count": null,
   "metadata": {
    "collapsed": true
   },
   "outputs": [],
   "source": []
  },
  {
   "cell_type": "markdown",
   "metadata": {},
   "source": [
    "## Problem 29 - Distinct powers\n",
    "\n",
    "Consider all integer combinations of ab for 2 ≤ a ≤ 5 and 2 ≤ b ≤ 5:\n",
    "\n",
    "22=4, 23=8, 24=16, 25=32\n",
    "32=9, 33=27, 34=81, 35=243\n",
    "42=16, 43=64, 44=256, 45=1024\n",
    "52=25, 53=125, 54=625, 55=3125\n",
    "If they are then placed in numerical order, with any repeats removed, we get the following sequence of 15 distinct terms:\n",
    "\n",
    "4, 8, 9, 16, 25, 27, 32, 64, 81, 125, 243, 256, 625, 1024, 3125\n",
    "\n",
    "How many distinct terms are in the sequence generated by ab for 2 ≤ a ≤ 100 and 2 ≤ b ≤ 100?\n",
    "\n",
    "## Problem 29 - Solution"
   ]
  },
  {
   "cell_type": "code",
   "execution_count": null,
   "metadata": {
    "collapsed": true
   },
   "outputs": [],
   "source": []
  },
  {
   "cell_type": "markdown",
   "metadata": {},
   "source": [
    "## Problem 30 - Digit fifth powers\n",
    "\n",
    "Surprisingly there are only three numbers that can be written as the sum of fourth powers of their digits:\n",
    "\n",
    "1634 = 14 + 64 + 34 + 44\n",
    "8208 = 84 + 24 + 04 + 84\n",
    "9474 = 94 + 44 + 74 + 44\n",
    "As 1 = 14 is not a sum it is not included.\n",
    "\n",
    "The sum of these numbers is 1634 + 8208 + 9474 = 19316.\n",
    "\n",
    "Find the sum of all the numbers that can be written as the sum of fifth powers of their digits.\n",
    "\n",
    "## Problem 30 - Solution"
   ]
  },
  {
   "cell_type": "code",
   "execution_count": null,
   "metadata": {
    "collapsed": true
   },
   "outputs": [],
   "source": []
  }
 ],
 "metadata": {
  "kernelspec": {
   "display_name": "Python 2",
   "language": "python",
   "name": "python2"
  },
  "language_info": {
   "codemirror_mode": {
    "name": "ipython",
    "version": 2
   },
   "file_extension": ".py",
   "mimetype": "text/x-python",
   "name": "python",
   "nbconvert_exporter": "python",
   "pygments_lexer": "ipython2",
   "version": "2.7.13"
  }
 },
 "nbformat": 4,
 "nbformat_minor": 2
}
