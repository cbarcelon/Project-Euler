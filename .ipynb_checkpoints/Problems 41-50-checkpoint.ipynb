{
 "cells": [
  {
   "cell_type": "markdown",
   "metadata": {},
   "source": [
    "## Problem 41 - Pandigital prime\n",
    "\n",
    "We shall say that an n-digit number is pandigital if it makes use of all the digits 1 to n exactly once. For example, 2143 is a 4-digit pandigital and is also prime.\n",
    "\n",
    "What is the largest n-digit pandigital prime that exists?\n",
    "\n",
    "## Problem 41- Solution"
   ]
  },
  {
   "cell_type": "code",
   "execution_count": 16,
   "metadata": {
    "collapsed": true
   },
   "outputs": [],
   "source": [
    "import math\n",
    "def isprime(n):\n",
    "    if n == 1:\n",
    "        return False\n",
    "    elif n < 4:\n",
    "        return True\n",
    "    elif n%2 == 0:\n",
    "        return False\n",
    "    elif n < 9:\n",
    "        return True\n",
    "    elif n%3 == 0:\n",
    "        return False\n",
    "    else:\n",
    "        r = math.floor(math.sqrt(n))\n",
    "        f = 5\n",
    "        while f <= r:\n",
    "            if n%f == 0:\n",
    "                return False\n",
    "            if n%(f+2) == 0:\n",
    "                return False\n",
    "            f=f+6\n",
    "        return True\n",
    "\n",
    "def pandigital(s):\n",
    "    a = []\n",
    "    for i in range(1,len(s)+1):\n",
    "        a.append(str(i))\n",
    "    for d in s:\n",
    "        if d not in a:\n",
    "            return False\n",
    "        a.remove(d)           \n",
    "    return True    \n",
    "\n",
    "\n",
    "\n",
    "    "
   ]
  },
  {
   "cell_type": "code",
   "execution_count": 18,
   "metadata": {},
   "outputs": [
    {
     "name": "stdout",
     "output_type": "stream",
     "text": [
      "7652413\n"
     ]
    }
   ],
   "source": [
    "for i in range(7654321,-1,-2):\n",
    "    if pandigital(str(i)):\n",
    "        if isprime(i):\n",
    "            print(i)\n",
    "            break"
   ]
  },
  {
   "cell_type": "markdown",
   "metadata": {},
   "source": [
    "## Problem 42 - Coded triangle numbers\n",
    "\n",
    "The n<sup>th</sup> term of the sequence of triangle numbers is given by, t<sub>n</sub> = ½n(n+1); so the first ten triangle numbers are:\n",
    "\n",
    "1, 3, 6, 10, 15, 21, 28, 36, 45, 55, ...\n",
    "\n",
    "By converting each letter in a word to a number corresponding to its alphabetical position and adding these values we form a word value. For example, the word value for SKY is 19 + 11 + 25 = 55 = t<sub>10</sub>. If the word value is a triangle number then we shall call the word a triangle word.\n",
    "\n",
    "Using words.txt (right click and 'Save Link/Target As...'), a 16K text file containing nearly two-thousand common English words, how many are triangle words?\n",
    "\n",
    "## Problem 42 - Solution"
   ]
  },
  {
   "cell_type": "code",
   "execution_count": 34,
   "metadata": {
    "collapsed": true
   },
   "outputs": [],
   "source": [
    "def triangle_numbers(n):\n",
    "    nums = []\n",
    "    for i in range(1,n+1):\n",
    "        nums.append((.5*i)*(i+1))\n",
    "    return nums\n"
   ]
  },
  {
   "cell_type": "code",
   "execution_count": 35,
   "metadata": {},
   "outputs": [
    {
     "name": "stdout",
     "output_type": "stream",
     "text": [
      "162\n"
     ]
    }
   ],
   "source": [
    "f = open('p042_words.txt', 'r')\n",
    "text = f.read()\n",
    "words = text.split(',')\n",
    "cleaned_words = []\n",
    "tri_numbers = triangle_numbers(1000)\n",
    "count = 0\n",
    "for w in words:\n",
    "    cleaned_words.append(w.strip('\"'))\n",
    "for w in cleaned_words:\n",
    "    word_value = 0\n",
    "    for c in w:\n",
    "        word_value += ord(c)-64\n",
    "    if word_value in tri_numbers:\n",
    "        count += 1\n",
    "print(count)        "
   ]
  },
  {
   "cell_type": "markdown",
   "metadata": {},
   "source": [
    "## Problem 43 - Substring divisibility\n",
    "\n",
    "The number, 1406357289, is a 0 to 9 pandigital number because it is made up of each of the digits 0 to 9 in some order, but it also has a rather interesting sub-string divisibility property.\n",
    "\n",
    "Let d1 be the 1st digit, d2 be the 2nd digit, and so on. In this way, we note the following:\n",
    "\n",
    "d<sub>2</sub>d<sub>3</sub>d<sub>4</sub>=406 is divisible by 2  \n",
    "d<sub>3</sub>d<sub>4</sub>d<sub>5</sub>=063 is divisible by 3  \n",
    "d<sub>4</sub>d<sub>5</sub>d<sub>6</sub>=635 is divisible by 5  \n",
    "d<sub>5</sub>d<sub>6</sub>d<sub>7</sub>=357 is divisible by 7  \n",
    "d<sub>6</sub>d<sub>7</sub>d<sub>8</sub>=572 is divisible by 11  \n",
    "d<sub>7</sub>d<sub>8</sub>d<sub>9</sub>=728 is divisible by 13  \n",
    "d<sub>8</sub>d<sub>9</sub>d<sub>10</sub>=289 is divisible by 17  \n",
    "Find the sum of all 0 to 9 pandigital numbers with this property."
   ]
  },
  {
   "cell_type": "code",
   "execution_count": 17,
   "metadata": {},
   "outputs": [
    {
     "name": "stdout",
     "output_type": "stream",
     "text": [
      "16695334890\n",
      "17.88518958053237\n"
     ]
    }
   ],
   "source": [
    "import time\n",
    "import itertools\n",
    "\n",
    "divisors = [2,3,5,7,11,13,17]\n",
    "\n",
    "def prob_43(s):\n",
    "    for i in range(7):\n",
    "        tmp = s[1+i:4+i]\n",
    "        if int(tmp)%divisors[i] != 0:\n",
    "            return False\n",
    "    return True    \n",
    "\n",
    "start = time.clock()\n",
    "perms = []\n",
    "total = 0\n",
    "for perm in itertools.permutations('0123456789', 10):\n",
    "    num = ''\n",
    "    for i in perm:\n",
    "        num += str(i)\n",
    "    if prob_43(num):\n",
    "        perms.append(num)\n",
    "        total += int(num)\n",
    "\n",
    "end = time.clock()\n",
    "print(total)\n",
    "print(end-start)  "
   ]
  },
  {
   "cell_type": "markdown",
   "metadata": {
    "collapsed": true
   },
   "source": []
  }
 ],
 "metadata": {
  "kernelspec": {
   "display_name": "Python 3",
   "language": "python",
   "name": "python3"
  },
  "language_info": {
   "codemirror_mode": {
    "name": "ipython",
    "version": 3
   },
   "file_extension": ".py",
   "mimetype": "text/x-python",
   "name": "python",
   "nbconvert_exporter": "python",
   "pygments_lexer": "ipython3",
   "version": "3.6.5"
  }
 },
 "nbformat": 4,
 "nbformat_minor": 2
}
