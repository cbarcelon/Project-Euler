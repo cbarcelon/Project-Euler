{
 "cells": [
  {
   "cell_type": "markdown",
   "metadata": {},
   "source": [
    "## Problem 41 - Pandigital prime\n",
    "\n",
    "We shall say that an n-digit number is pandigital if it makes use of all the digits 1 to n exactly once. For example, 2143 is a 4-digit pandigital and is also prime.\n",
    "\n",
    "What is the largest n-digit pandigital prime that exists?\n",
    "\n",
    "## Problem 41- Solution"
   ]
  },
  {
   "cell_type": "code",
   "execution_count": 16,
   "metadata": {
    "collapsed": true
   },
   "outputs": [],
   "source": [
    "import math\n",
    "def isprime(n):\n",
    "    if n == 1:\n",
    "        return False\n",
    "    elif n < 4:\n",
    "        return True\n",
    "    elif n%2 == 0:\n",
    "        return False\n",
    "    elif n < 9:\n",
    "        return True\n",
    "    elif n%3 == 0:\n",
    "        return False\n",
    "    else:\n",
    "        r = math.floor(math.sqrt(n))\n",
    "        f = 5\n",
    "        while f <= r:\n",
    "            if n%f == 0:\n",
    "                return False\n",
    "            if n%(f+2) == 0:\n",
    "                return False\n",
    "            f=f+6\n",
    "        return True\n",
    "\n",
    "def pandigital(s):\n",
    "    a = []\n",
    "    for i in range(1,len(s)+1):\n",
    "        a.append(str(i))\n",
    "    for d in s:\n",
    "        if d not in a:\n",
    "            return False\n",
    "        a.remove(d)           \n",
    "    return True    \n",
    "\n",
    "\n",
    "\n",
    "    "
   ]
  },
  {
   "cell_type": "code",
   "execution_count": 18,
   "metadata": {},
   "outputs": [
    {
     "name": "stdout",
     "output_type": "stream",
     "text": [
      "7652413\n"
     ]
    }
   ],
   "source": [
    "for i in range(7654321,-1,-2):\n",
    "    if pandigital(str(i)):\n",
    "        if isprime(i):\n",
    "            print(i)\n",
    "            break"
   ]
  },
  {
   "cell_type": "markdown",
   "metadata": {},
   "source": [
    "## Problem 42 - Coded triangle numbers\n",
    "\n",
    "The n<sup>th</sup> term of the sequence of triangle numbers is given by, t<sub>n</sub> = ½n(n+1); so the first ten triangle numbers are:\n",
    "\n",
    "1, 3, 6, 10, 15, 21, 28, 36, 45, 55, ...\n",
    "\n",
    "By converting each letter in a word to a number corresponding to its alphabetical position and adding these values we form a word value. For example, the word value for SKY is 19 + 11 + 25 = 55 = t<sub>10</sub>. If the word value is a triangle number then we shall call the word a triangle word.\n",
    "\n",
    "Using words.txt (right click and 'Save Link/Target As...'), a 16K text file containing nearly two-thousand common English words, how many are triangle words?\n",
    "\n",
    "## Problem 42 - Solution"
   ]
  },
  {
   "cell_type": "code",
   "execution_count": 34,
   "metadata": {
    "collapsed": true
   },
   "outputs": [],
   "source": [
    "def triangle_numbers(n):\n",
    "    nums = []\n",
    "    for i in range(1,n+1):\n",
    "        nums.append((.5*i)*(i+1))\n",
    "    return nums\n"
   ]
  },
  {
   "cell_type": "code",
   "execution_count": 35,
   "metadata": {},
   "outputs": [
    {
     "name": "stdout",
     "output_type": "stream",
     "text": [
      "162\n"
     ]
    }
   ],
   "source": [
    "f = open('p042_words.txt', 'r')\n",
    "text = f.read()\n",
    "words = text.split(',')\n",
    "cleaned_words = []\n",
    "tri_numbers = triangle_numbers(1000)\n",
    "count = 0\n",
    "for w in words:\n",
    "    cleaned_words.append(w.strip('\"'))\n",
    "for w in cleaned_words:\n",
    "    word_value = 0\n",
    "    for c in w:\n",
    "        word_value += ord(c)-64\n",
    "    if word_value in tri_numbers:\n",
    "        count += 1\n",
    "print(count)        "
   ]
  },
  {
   "cell_type": "markdown",
   "metadata": {},
   "source": [
    "## Problem 43 - Substring divisibility\n",
    "\n",
    "The number, 1406357289, is a 0 to 9 pandigital number because it is made up of each of the digits 0 to 9 in some order, but it also has a rather interesting sub-string divisibility property.\n",
    "\n",
    "Let d1 be the 1st digit, d2 be the 2nd digit, and so on. In this way, we note the following:\n",
    "\n",
    "d<sub>2</sub>d<sub>3</sub>d<sub>4</sub>=406 is divisible by 2  \n",
    "d<sub>3</sub>d<sub>4</sub>d<sub>5</sub>=063 is divisible by 3  \n",
    "d<sub>4</sub>d<sub>5</sub>d<sub>6</sub>=635 is divisible by 5  \n",
    "d<sub>5</sub>d<sub>6</sub>d<sub>7</sub>=357 is divisible by 7  \n",
    "d<sub>6</sub>d<sub>7</sub>d<sub>8</sub>=572 is divisible by 11  \n",
    "d<sub>7</sub>d<sub>8</sub>d<sub>9</sub>=728 is divisible by 13  \n",
    "d<sub>8</sub>d<sub>9</sub>d<sub>10</sub>=289 is divisible by 17  \n",
    "Find the sum of all 0 to 9 pandigital numbers with this property."
   ]
  },
  {
   "cell_type": "code",
   "execution_count": 17,
   "metadata": {},
   "outputs": [
    {
     "name": "stdout",
     "output_type": "stream",
     "text": [
      "16695334890\n",
      "17.88518958053237\n"
     ]
    }
   ],
   "source": [
    "import time\n",
    "import itertools\n",
    "\n",
    "divisors = [2,3,5,7,11,13,17]\n",
    "\n",
    "def prob_43(s):\n",
    "    for i in range(7):\n",
    "        tmp = s[1+i:4+i]\n",
    "        if int(tmp)%divisors[i] != 0:\n",
    "            return False\n",
    "    return True    \n",
    "\n",
    "start = time.clock()\n",
    "perms = []\n",
    "total = 0\n",
    "for perm in itertools.permutations('0123456789', 10):\n",
    "    num = ''\n",
    "    for i in perm:\n",
    "        num += str(i)\n",
    "    if prob_43(num):\n",
    "        perms.append(num)\n",
    "        total += int(num)\n",
    "\n",
    "end = time.clock()\n",
    "print(total)\n",
    "print(end-start)  "
   ]
  },
  {
   "cell_type": "markdown",
   "metadata": {},
   "source": [
    "## Problem 44 - Pentagon numbers\n",
    "\n",
    "Pentagonal numbers are generated by the formula, P<sub>n</sub>=n(3n−1)/2. The first ten pentagonal numbers are:\n",
    "\n",
    "1, 5, 12, 22, 35, 51, 70, 92, 117, 145, ...  \n",
    "\n",
    "It can be seen that P<sub>4</sub> + P<sub>7</sub> = 22 + 70 = 92 = P8. However, their difference, 70 − 22 = 48, is not pentagonal.\n",
    "\n",
    "Find the pair of pentagonal numbers, P<sub>j</sub> and P<sub>k</sub>, for which their sum and difference are pentagonal and D = |P<sub>k</sub> − P<sub>j</sub>| is minimised; what is the value of D?\n",
    "\n",
    "## Problem 44 - Solution"
   ]
  },
  {
   "cell_type": "code",
   "execution_count": 5,
   "metadata": {
    "collapsed": true
   },
   "outputs": [],
   "source": [
    "def pentagon_num(n):\n",
    "    tmp = n*(3*n-1)/2\n",
    "    return tmp\n",
    "\n",
    "p_nums = []\n",
    "for i in range(1, 10000):\n",
    "    tmp = pentagon_num(i)\n",
    "    p_nums.append(tmp)\n",
    "    "
   ]
  },
  {
   "cell_type": "code",
   "execution_count": 11,
   "metadata": {},
   "outputs": [
    {
     "name": "stdout",
     "output_type": "stream",
     "text": [
      "5482660.0\n"
     ]
    }
   ],
   "source": [
    "for i in range(1, 2500):\n",
    "    for j in range(i, 2500):\n",
    "        tmp = p_nums[i] + p_nums[j]\n",
    "        if tmp in p_nums:\n",
    "            tmp2 = p_nums[j] - p_nums[i]\n",
    "            if tmp2 in p_nums:\n",
    "                print(abs(p_nums[i] - p_nums[j]))"
   ]
  },
  {
   "cell_type": "markdown",
   "metadata": {},
   "source": [
    "## Problem 45 - Triangular, pentagonal, and hexagonal\n",
    "\n",
    "Triangle, pentagonal, and hexagonal numbers are generated by the following formulae:\n",
    "\n",
    "Triangle\t \tT<sub>n</sub>=n(n+1)/2\t    \t1, 3, 6, 10, 15, ...  \n",
    "Pentagonal\t \tP<sub>n</sub>=n(3n−1)/2\t    \t1, 5, 12, 22, 35, ...  \n",
    "Hexagonal\t \tH<sub>n</sub>=n(2n−1)\t \t    1, 6, 15, 28, 45, ...  \n",
    "It can be verified that T<sub>285</sub> = P<sub>165</sub> = H<sub>143</sub> = 40755.\n",
    "\n",
    "Find the next triangle number that is also pentagonal and hexagonal.\n",
    "\n",
    "## Problem 45 - Solution"
   ]
  },
  {
   "cell_type": "code",
   "execution_count": 22,
   "metadata": {
    "collapsed": true
   },
   "outputs": [],
   "source": [
    "import math\n",
    "import time\n",
    "\n",
    "def is_pentagonal(n):\n",
    "    tmp = (math.sqrt((24*n)+1) +1)/6\n",
    "    return tmp.is_integer()\n",
    "\n",
    "def is_hexagonal(n):\n",
    "    tmp = (math.sqrt(8*n+1)+1)/4\n",
    "    return tmp.is_integer()\n"
   ]
  },
  {
   "cell_type": "code",
   "execution_count": 25,
   "metadata": {},
   "outputs": [
    {
     "name": "stdout",
     "output_type": "stream",
     "text": [
      "55385 1533776805.0\n",
      "0.06541251922619651\n"
     ]
    }
   ],
   "source": [
    "start = time.clock()\n",
    "found = False\n",
    "n = 286\n",
    "while not found:\n",
    "    x = n*(n+1)/2\n",
    "    if is_hexagonal(x):\n",
    "        if is_pentagonal(x):\n",
    "            print(n,x)\n",
    "            found = True\n",
    "    n += 1\n",
    "end = time.clock()\n",
    "print(end-start)"
   ]
  },
  {
   "cell_type": "markdown",
   "metadata": {},
   "source": [
    "## Problem 46 - Goldbach's other conjecture\n",
    "\n",
    "It was proposed by Christian Goldbach that every odd composite number can be written as the sum of a prime and twice a square.\n",
    "\n",
    "9 = 7 + 2×1<sup>2</sup>  \n",
    "15 = 7 + 2×2<sup>2</sup>  \n",
    "21 = 3 + 2×3<sup>2</sup>  \n",
    "25 = 7 + 2×3<sup>2</sup>  \n",
    "27 = 19 + 2×2<sup>2</sup>  \n",
    "33 = 31 + 2×1<sup>2</sup>  \n",
    "\n",
    "It turns out that the conjecture was false.\n",
    "\n",
    "What is the smallest odd composite that cannot be written as the sum of a prime and twice a square?\n",
    "\n",
    "## Problem 46 - Solution"
   ]
  },
  {
   "cell_type": "code",
   "execution_count": 1,
   "metadata": {
    "collapsed": true
   },
   "outputs": [],
   "source": [
    "import math\n",
    "def isprime(n):\n",
    "    if n == 1:\n",
    "        return False\n",
    "    elif n < 4:\n",
    "        return True\n",
    "    elif n%2 == 0:\n",
    "        return False\n",
    "    elif n < 9:\n",
    "        return True\n",
    "    elif n%3 == 0:\n",
    "        return False\n",
    "    else:\n",
    "        r = math.floor(math.sqrt(n))\n",
    "        f = 5\n",
    "        while f <= r:\n",
    "            if n%f == 0:\n",
    "                return False\n",
    "            if n%(f+2) == 0:\n",
    "                return False\n",
    "            f=f+6\n",
    "        return True\n",
    "\n",
    "def get_next_prime(n):\n",
    "    n += 1\n",
    "    if isprime(n):\n",
    "        return n\n",
    "    else:\n",
    "        return get_next_prime(n)\n",
    "\n",
    "def is_twice_square(n):\n",
    "    tmp = math.sqrt(n/2)\n",
    "    return tmp.is_integer()"
   ]
  },
  {
   "cell_type": "code",
   "execution_count": 2,
   "metadata": {},
   "outputs": [
    {
     "name": "stdout",
     "output_type": "stream",
     "text": [
      "5777\n",
      "0.662265264387\n"
     ]
    }
   ],
   "source": [
    "import time\n",
    "start = time.clock()\n",
    "n = 1\n",
    "notfound = True\n",
    "while notfound:\n",
    "    n += 2\n",
    "    p = 2\n",
    "    notfound = False\n",
    "    while n >= p:\n",
    "        if is_twice_square(n-p):\n",
    "            notfound = True\n",
    "            break\n",
    "        p = get_next_prime(p)\n",
    "print(n)\n",
    "end = time.clock()\n",
    "print(end-start)"
   ]
  },
  {
   "cell_type": "markdown",
   "metadata": {},
   "source": [
    "## Problem 47 - Distinct primes factors\n",
    "\n",
    "The first two consecutive numbers to have two distinct prime factors are:\n",
    "\n",
    "14 = 2 × 7  \n",
    "15 = 3 × 5  \n",
    "\n",
    "The first three consecutive numbers to have three distinct prime factors are:\n",
    " \n",
    "644 = 2² × 7 × 23  \n",
    "645 = 3 × 5 × 43  \n",
    "646 = 2 × 17 × 19.  \n",
    "\n",
    "Find the first four consecutive integers to have four distinct prime factors each. What is the first of these numbers?\n",
    "\n",
    "## Problem 47 - Solution"
   ]
  },
  {
   "cell_type": "code",
   "execution_count": 10,
   "metadata": {
    "collapsed": true
   },
   "outputs": [],
   "source": [
    "import math \n",
    "#function that print all the prime factors of a given number\n",
    "def primeFactors(n):\n",
    "    p_factors = []\n",
    "    while n%2 == 0:\n",
    "        #print(2)\n",
    "        if 2 not in p_factors:\n",
    "            p_factors.append(2)\n",
    "        n = n/2\n",
    "            \n",
    "    for i in  range(3, int(math.sqrt(n))+1,2):\n",
    "        while n%i == 0:\n",
    "           # print(i)\n",
    "            if i not in p_factors:\n",
    "                p_factors.append(i)\n",
    "            n = n/i\n",
    "    if n > 2 and n not in p_factors:\n",
    "        #print(n)\n",
    "        p_factors.append(n)\n",
    "     \n",
    "    return p_factors\n",
    "\n",
    "def check_distinct_prime_factors(n):\n",
    "    n2 = n+1\n",
    "    n3 = n+2\n",
    "    n4 = n+3\n",
    "    n_factors = primeFactors(n)\n",
    "    n2_factors = primeFactors(n2)\n",
    "    n3_factors = primeFactors(n3)\n",
    "    n4_factors = primeFactors(n4)\n",
    "    \n",
    "    if len(n_factors) == 4:\n",
    "        if len(n2_factors) == 4:\n",
    "            if len(n3_factors) == 4:\n",
    "                if len(n4_factors) == 4:\n",
    "                    return True\n",
    "    return False            \n",
    "    "
   ]
  },
  {
   "cell_type": "code",
   "execution_count": 12,
   "metadata": {},
   "outputs": [
    {
     "name": "stdout",
     "output_type": "stream",
     "text": [
      "134043\n",
      "4.74831962766\n"
     ]
    }
   ],
   "source": [
    "import time\n",
    "start = time.clock()\n",
    "n = 646\n",
    "found = False\n",
    "\n",
    "while not found:\n",
    "    n += 1\n",
    "    found = check_distinct_prime_factors(n)\n",
    "end = time.clock()\n",
    "print(n)\n",
    "print(end - start)"
   ]
  },
  {
   "cell_type": "markdown",
   "metadata": {
    "collapsed": true
   },
   "source": [
    "## Problem 48 - Self Powers\n",
    "\n",
    "The series, 1<sup>1</sup> + 2<sup>2</sup> + 3<sup>3</sup> + ... + 10<sup>10</sup> = 10405071317.\n",
    "\n",
    "Find the last ten digits of the series, 1<sup>1</sup> + 2<sup>2</sup> + 3<sup>3</sup> + ... + 1000<sup>1000</sup>.\n",
    "\n",
    "## Problem 48 - Solution"
   ]
  },
  {
   "cell_type": "code",
   "execution_count": 14,
   "metadata": {},
   "outputs": [
    {
     "name": "stdout",
     "output_type": "stream",
     "text": [
      "9110846700\n",
      "0.0104907735998\n"
     ]
    }
   ],
   "source": [
    "import time\n",
    "start = time.clock()\n",
    "total = 0\n",
    "for i in range(1,1001):\n",
    "    total += i**i\n",
    "s = str(total)\n",
    "print(s[-10:])\n",
    "end = time.clock()\n",
    "print(end-start)"
   ]
  },
  {
   "cell_type": "markdown",
   "metadata": {},
   "source": [
    "## Problem 49 - Prime Permutations\n",
    "\n",
    "The arithmetic sequence, 1487, 4817, 8147, in which each of the terms increases by 3330, is unusual in two ways: (i) each of the three terms are prime, and, (ii) each of the 4-digit numbers are permutations of one another.\n",
    "\n",
    "There are no arithmetic sequences made up of three 1-, 2-, or 3-digit primes, exhibiting this property, but there is one other 4-digit increasing sequence.\n",
    "\n",
    "What 12-digit number do you form by concatenating the three terms in this sequence?\n",
    "\n",
    "## Problem 49 - Solution"
   ]
  },
  {
   "cell_type": "code",
   "execution_count": 7,
   "metadata": {},
   "outputs": [
    {
     "name": "stdout",
     "output_type": "stream",
     "text": [
      "148748178147\n",
      "296962999629\n"
     ]
    }
   ],
   "source": [
    "import math\n",
    "def isprime(n):\n",
    "    if n == 1:\n",
    "        return False\n",
    "    elif n < 4:\n",
    "        return True\n",
    "    elif n%2 == 0:\n",
    "        return False\n",
    "    elif n < 9:\n",
    "        return True\n",
    "    elif n%3 == 0:\n",
    "        return False\n",
    "    else:\n",
    "        r = math.floor(math.sqrt(n))\n",
    "        f = 5\n",
    "        while f <= r:\n",
    "            if n%f == 0:\n",
    "                return False\n",
    "            if n%(f+2) == 0:\n",
    "                return False\n",
    "            f=f+6\n",
    "        return True\n",
    "\n",
    "def ispermutation(i, j, k):\n",
    "    s1, s2, s3 = str(i), str(j), str(k)\n",
    "    for c in s2:\n",
    "        if c not in s1:\n",
    "            return False\n",
    "        \n",
    "    for c in s3:\n",
    "        if c not in s1:\n",
    "            return False\n",
    "    \n",
    "    for c in s1:\n",
    "        if c not in s2:\n",
    "            return False\n",
    "        if c not in s3:\n",
    "            return False\n",
    "    return True\n",
    "    \n",
    "# compute all 4 digit primes\n",
    "primes =[]\n",
    "for i in range(999,10000):\n",
    "    if isprime(i):\n",
    "        primes.append(i)\n",
    "\n",
    "for p in range(len(primes)):\n",
    "    for p2 in range(p+1, len(primes)):\n",
    "        prime1 = primes[p]\n",
    "        prime2 = primes[p2]\n",
    "        prime3 = prime2 + (prime2-prime1)\n",
    "        if prime3 in primes:\n",
    "            if ispermutation(prime1, prime2, prime3):\n",
    "                print(str(prime1) + str(prime2) + str(prime3))\n",
    "                break"
   ]
  },
  {
   "cell_type": "markdown",
   "metadata": {},
   "source": [
    "## Problem 50 - Consecutive prime sum\n",
    "\n",
    "The prime 41, can be written as the sum of six consecutive primes:\n",
    "\n",
    "41 = 2 + 3 + 5 + 7 + 11 + 13\n",
    "\n",
    "This is the longest sum of consecutive primes that adds to a prime below one-hundred.\n",
    "\n",
    "The longest sum of consecutive primes below one-thousand that adds to a prime, contains 21 terms, and is equal to 953.\n",
    "\n",
    "Which prime, below one-million, can be written as the sum of the most consecutive primes?\n",
    "\n",
    "## Problem 50 - Solution"
   ]
  },
  {
   "cell_type": "code",
   "execution_count": 1,
   "metadata": {
    "collapsed": true
   },
   "outputs": [],
   "source": [
    "import math\n",
    "def isprime(n):\n",
    "    if n == 1:\n",
    "        return False\n",
    "    elif n < 4:\n",
    "        return True\n",
    "    elif n%2 == 0:\n",
    "        return False\n",
    "    elif n < 9:\n",
    "        return True\n",
    "    elif n%3 == 0:\n",
    "        return False\n",
    "    else:\n",
    "        r = math.floor(math.sqrt(n))\n",
    "        f = 5\n",
    "        while f <= r:\n",
    "            if n%f == 0:\n",
    "                return False\n",
    "            if n%(f+2) == 0:\n",
    "                return False\n",
    "            f=f+6\n",
    "        return True\n",
    "\n",
    "primes = []\n",
    "for i in range(1000000):\n",
    "    if isprime(i):\n",
    "        primes.append(i)"
   ]
  },
  {
   "cell_type": "code",
   "execution_count": 10,
   "metadata": {},
   "outputs": [
    {
     "name": "stdout",
     "output_type": "stream",
     "text": [
      "(997651, 543)\n"
     ]
    }
   ],
   "source": [
    "max_total = 0\n",
    "max_count = 0\n",
    "\n",
    "for i in range(len(primes)-1):\n",
    "    tmp_total = 0\n",
    "    count = 0\n",
    "    j = i\n",
    "    while tmp_total < 1000000:\n",
    "        tmp_total += primes[j]\n",
    "        j += 1\n",
    "        count += 1\n",
    "        if isprime(tmp_total) and count > max_count:\n",
    "                max_count = count\n",
    "                max_total = tmp_total\n",
    "print(max_total, max_count)"
   ]
  },
  {
   "cell_type": "code",
   "execution_count": null,
   "metadata": {
    "collapsed": true
   },
   "outputs": [],
   "source": []
  }
 ],
 "metadata": {
  "kernelspec": {
   "display_name": "Python 2",
   "language": "python",
   "name": "python2"
  },
  "language_info": {
   "codemirror_mode": {
    "name": "ipython",
    "version": 2
   },
   "file_extension": ".py",
   "mimetype": "text/x-python",
   "name": "python",
   "nbconvert_exporter": "python",
   "pygments_lexer": "ipython2",
   "version": "2.7.14"
  }
 },
 "nbformat": 4,
 "nbformat_minor": 2
}
