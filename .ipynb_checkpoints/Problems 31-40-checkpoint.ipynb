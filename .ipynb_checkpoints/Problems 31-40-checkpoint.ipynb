{
 "cells": [
  {
   "cell_type": "markdown",
   "metadata": {},
   "source": [
    "## Problem 31 - Coin sums\n",
    "In England the currency is made up of pound, £, and pence, p, and there are eight coins in general circulation:\n",
    "\n",
    "1p, 2p, 5p, 10p, 20p, 50p, £1 (100p) and £2 (200p).\n",
    "It is possible to make £2 in the following way:\n",
    "\n",
    "1×£1 + 1×50p + 2×20p + 1×5p + 1×2p + 3×1p\n",
    "How many different ways can £2 be made using any number of coins?\n",
    "\n",
    "## Problem 31 - Solution"
   ]
  },
  {
   "cell_type": "code",
   "execution_count": 14,
   "metadata": {},
   "outputs": [
    {
     "name": "stdout",
     "output_type": "stream",
     "text": [
      "73682\n"
     ]
    }
   ],
   "source": [
    "target = 200\n",
    "coins = [1,2,5,10,20,50,100,200]\n",
    "ways = [1] + [0]*target\n",
    "\n",
    "for coin in coins:\n",
    "    for i in range(coin, target+1):\n",
    "        ways[i] += ways[i-coin]\n",
    "    \n",
    "    \n",
    "         \n",
    "print(ways[target])        \n",
    "        "
   ]
  },
  {
   "cell_type": "markdown",
   "metadata": {
    "collapsed": true
   },
   "source": [
    "## Problem 32 - Pandigital products\n",
    "\n",
    "We shall say that an n-digit number is pandigital if it makes use of all the digits 1 to n exactly once; for example, the 5-digit number, 15234, is 1 through 5 pandigital.\n",
    "\n",
    "The product 7254 is unusual, as the identity, 39 × 186 = 7254, containing multiplicand, multiplier, and product is 1 through 9 pandigital.\n",
    "\n",
    "Find the sum of all products whose multiplicand/multiplier/product identity can be written as a 1 through 9 pandigital.\n",
    "\n",
    "HINT: Some products can be obtained in more than one way so be sure to only include it once in your sum.\n",
    "\n",
    "## Problem 32 - Solution"
   ]
  },
  {
   "cell_type": "code",
   "execution_count": 42,
   "metadata": {},
   "outputs": [
    {
     "name": "stdout",
     "output_type": "stream",
     "text": [
      "(4, 1738, 6952)\n",
      "(4, 1963, 7852)\n",
      "(12, 483, 5796)\n",
      "(18, 297, 5346)\n",
      "(28, 157, 4396)\n",
      "(39, 186, 7254)\n",
      "(48, 159, 7632)\n",
      "[6952, 7852, 5796, 5346, 4396, 7254, 7632]\n",
      "45228\n"
     ]
    }
   ],
   "source": [
    "pandigital = []\n",
    "def is_pandigital(n):\n",
    "    n=str(n)\n",
    "    return len(n)==9 and not '123456789'.strip(n)\n",
    "\n",
    "for i in range(1000):\n",
    "    for j in range(10000):\n",
    "        product = i*j\n",
    "        digits = str(i) + str(j) + str(product)\n",
    "        if is_pandigital(digits):\n",
    "            if product not in pandigital:\n",
    "                print(i, j, product)\n",
    "                pandigital.append(product)\n",
    "print(pandigital)\n",
    "print(sum(pandigital))"
   ]
  },
  {
   "cell_type": "markdown",
   "metadata": {},
   "source": [
    "## Probelm 33 - Digit cancelling fractions\n",
    "\n",
    "The fraction 49/98 is a curious fraction, as an inexperienced mathematician in attempting to simplify it may incorrectly believe that 49/98 = 4/8, which is correct, is obtained by cancelling the 9s.\n",
    "\n",
    "We shall consider fractions like, 30/50 = 3/5, to be trivial examples.\n",
    "\n",
    "There are exactly four non-trivial examples of this type of fraction, less than one in value, and containing two digits in the numerator and denominator.\n",
    "\n",
    "If the product of these four fractions is given in its lowest common terms, find the value of the denominator.\n",
    "\n",
    "## Problem 33 - Solution"
   ]
  },
  {
   "cell_type": "code",
   "execution_count": 4,
   "metadata": {},
   "outputs": [
    {
     "name": "stdout",
     "output_type": "stream",
     "text": [
      "100.0\n"
     ]
    }
   ],
   "source": [
    "import math\n",
    "denom = 1\n",
    "numer = 1\n",
    "\n",
    "for i in range(1,10):\n",
    "    for d in range(1,i):\n",
    "        for n in range(1,d):\n",
    "            if((n*10 + i)*d == (i*10+d)*n):\n",
    "                denom *= n\n",
    "                numer *= d\n",
    "print(numer/math.gcd(numer, denom))                "
   ]
  },
  {
   "cell_type": "markdown",
   "metadata": {},
   "source": [
    "## Problem 34 - Digit factorials\n",
    "\n",
    "145 is a curious number, as 1! + 4! + 5! = 1 + 24 + 120 = 145.\n",
    "\n",
    "Find the sum of all numbers which are equal to the sum of the factorial of their digits.\n",
    "\n",
    "Note: as 1! = 1 and 2! = 2 are not sums they are not included.\n",
    "\n",
    "## Problem 34 - Solution"
   ]
  },
  {
   "cell_type": "code",
   "execution_count": 14,
   "metadata": {},
   "outputs": [
    {
     "name": "stdout",
     "output_type": "stream",
     "text": [
      "145\n",
      "40585\n",
      "40730\n",
      "0.482200545154\n"
     ]
    }
   ],
   "source": [
    "import math, time\n",
    "start = time.clock()\n",
    "total_sum = 0\n",
    "for i in range(10,99999):\n",
    "    s = str(i)\n",
    "    digit_sum = 0\n",
    "    for d in s:\n",
    "        digit_sum += math.factorial(int(d))\n",
    "    if digit_sum == i:\n",
    "        total_sum += digit_sum\n",
    "        print(digit_sum)\n",
    "print total_sum\n",
    "end = time.clock()\n",
    "print(end - start)"
   ]
  },
  {
   "cell_type": "markdown",
   "metadata": {},
   "source": [
    "## Problem 35 - Circular primes\n",
    "\n",
    "The number, 197, is called a circular prime because all rotations of the digits: 197, 971, and 719, are themselves prime.\n",
    "\n",
    "There are thirteen such primes below 100: 2, 3, 5, 7, 11, 13, 17, 31, 37, 71, 73, 79, and 97.\n",
    "\n",
    "How many circular primes are there below one million?\n",
    "\n",
    "## Problem 35 - Solution"
   ]
  },
  {
   "cell_type": "code",
   "execution_count": 9,
   "metadata": {},
   "outputs": [
    {
     "name": "stdout",
     "output_type": "stream",
     "text": [
      "55\n"
     ]
    }
   ],
   "source": [
    "import math\n",
    "\n",
    "def isprime(n):\n",
    "    if n == 1:\n",
    "        return False\n",
    "    elif n < 4:\n",
    "        return True\n",
    "    elif n%2 == 0:\n",
    "        return False\n",
    "    elif n < 9:\n",
    "        return True\n",
    "    elif n%3 == 0:\n",
    "        return False\n",
    "    else:\n",
    "        r = math.floor(math.sqrt(n))\n",
    "        f = 5\n",
    "        while f <= r:\n",
    "            if n%f == 0:\n",
    "                return False\n",
    "            if n%(f+2) == 0:\n",
    "                return False\n",
    "            f=f+6\n",
    "        return True\n",
    "\n",
    "def isCirclePrime(n):\n",
    "    if n == 2:\n",
    "        return True\n",
    "    stringn = str(n)\n",
    "    for i in stringn:\n",
    "        if int(i)%2 == 0:\n",
    "            return False\n",
    "    r = rotations(n)\n",
    "    for i in r:\n",
    "        if isprime(int(i)) == False:\n",
    "            return False\n",
    "    return True    \n",
    "\n",
    "from collections import deque\n",
    "\n",
    "def rotations(num): \n",
    "    d = deque(str(num))\n",
    "    return set([''.join(map(d.rotate(-1), d)) for i in xrange(len(d))])\n",
    "\n",
    "count = 0\n",
    "for i in range(1000000):\n",
    "    if isprime(i):\n",
    "        if isCirclePrime(i):\n",
    "            count += 1\n",
    "print(count) "
   ]
  },
  {
   "cell_type": "code",
   "execution_count": null,
   "metadata": {
    "collapsed": true
   },
   "outputs": [],
   "source": []
  }
 ],
 "metadata": {
  "anaconda-cloud": {},
  "kernelspec": {
   "display_name": "Python 2",
   "language": "python",
   "name": "python2"
  },
  "language_info": {
   "codemirror_mode": {
    "name": "ipython",
    "version": 2
   },
   "file_extension": ".py",
   "mimetype": "text/x-python",
   "name": "python",
   "nbconvert_exporter": "python",
   "pygments_lexer": "ipython2",
   "version": "2.7.15"
  }
 },
 "nbformat": 4,
 "nbformat_minor": 2
}
