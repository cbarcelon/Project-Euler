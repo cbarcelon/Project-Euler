{
 "cells": [
  {
   "cell_type": "markdown",
   "metadata": {},
   "source": [
    "## Problem 31 - Coin sums\n",
    "In England the currency is made up of pound, £, and pence, p, and there are eight coins in general circulation:\n",
    "\n",
    "1p, 2p, 5p, 10p, 20p, 50p, £1 (100p) and £2 (200p).\n",
    "It is possible to make £2 in the following way:\n",
    "\n",
    "1×£1 + 1×50p + 2×20p + 1×5p + 1×2p + 3×1p\n",
    "How many different ways can £2 be made using any number of coins?\n",
    "\n",
    "## Problem 31 - Solution"
   ]
  },
  {
   "cell_type": "code",
   "execution_count": 14,
   "metadata": {},
   "outputs": [
    {
     "name": "stdout",
     "output_type": "stream",
     "text": [
      "73682\n"
     ]
    }
   ],
   "source": [
    "target = 200\n",
    "coins = [1,2,5,10,20,50,100,200]\n",
    "ways = [1] + [0]*target\n",
    "\n",
    "for coin in coins:\n",
    "    for i in range(coin, target+1):\n",
    "        ways[i] += ways[i-coin]\n",
    "    \n",
    "    \n",
    "         \n",
    "print(ways[target])        \n",
    "        "
   ]
  },
  {
   "cell_type": "markdown",
   "metadata": {
    "collapsed": true
   },
   "source": [
    "## Problem 32 - Pandigital products\n",
    "\n",
    "We shall say that an n-digit number is pandigital if it makes use of all the digits 1 to n exactly once; for example, the 5-digit number, 15234, is 1 through 5 pandigital.\n",
    "\n",
    "The product 7254 is unusual, as the identity, 39 × 186 = 7254, containing multiplicand, multiplier, and product is 1 through 9 pandigital.\n",
    "\n",
    "Find the sum of all products whose multiplicand/multiplier/product identity can be written as a 1 through 9 pandigital.\n",
    "\n",
    "HINT: Some products can be obtained in more than one way so be sure to only include it once in your sum.\n",
    "\n",
    "## Problem 32 - Solution"
   ]
  },
  {
   "cell_type": "code",
   "execution_count": 42,
   "metadata": {},
   "outputs": [
    {
     "name": "stdout",
     "output_type": "stream",
     "text": [
      "(4, 1738, 6952)\n",
      "(4, 1963, 7852)\n",
      "(12, 483, 5796)\n",
      "(18, 297, 5346)\n",
      "(28, 157, 4396)\n",
      "(39, 186, 7254)\n",
      "(48, 159, 7632)\n",
      "[6952, 7852, 5796, 5346, 4396, 7254, 7632]\n",
      "45228\n"
     ]
    }
   ],
   "source": [
    "pandigital = []\n",
    "def is_pandigital(n):\n",
    "    n=str(n)\n",
    "    return len(n)==9 and not '123456789'.strip(n)\n",
    "\n",
    "for i in range(1000):\n",
    "    for j in range(10000):\n",
    "        product = i*j\n",
    "        digits = str(i) + str(j) + str(product)\n",
    "        if is_pandigital(digits):\n",
    "            if product not in pandigital:\n",
    "                print(i, j, product)\n",
    "                pandigital.append(product)\n",
    "print(pandigital)\n",
    "print(sum(pandigital))"
   ]
  },
  {
   "cell_type": "markdown",
   "metadata": {},
   "source": [
    "## Probelm 33 - Digit cancelling fractions\n",
    "\n",
    "The fraction 49/98 is a curious fraction, as an inexperienced mathematician in attempting to simplify it may incorrectly believe that 49/98 = 4/8, which is correct, is obtained by cancelling the 9s.\n",
    "\n",
    "We shall consider fractions like, 30/50 = 3/5, to be trivial examples.\n",
    "\n",
    "There are exactly four non-trivial examples of this type of fraction, less than one in value, and containing two digits in the numerator and denominator.\n",
    "\n",
    "If the product of these four fractions is given in its lowest common terms, find the value of the denominator.\n",
    "\n",
    "## Problem 33 - Solution"
   ]
  },
  {
   "cell_type": "code",
   "execution_count": 4,
   "metadata": {},
   "outputs": [
    {
     "name": "stdout",
     "output_type": "stream",
     "text": [
      "100.0\n"
     ]
    }
   ],
   "source": [
    "import math\n",
    "denom = 1\n",
    "numer = 1\n",
    "\n",
    "for i in range(1,10):\n",
    "    for d in range(1,i):\n",
    "        for n in range(1,d):\n",
    "            if((n*10 + i)*d == (i*10+d)*n):\n",
    "                denom *= n\n",
    "                numer *= d\n",
    "print(numer/math.gcd(numer, denom))                "
   ]
  },
  {
   "cell_type": "markdown",
   "metadata": {},
   "source": [
    "## Problem 34 - Digit factorials\n",
    "\n",
    "145 is a curious number, as 1! + 4! + 5! = 1 + 24 + 120 = 145.\n",
    "\n",
    "Find the sum of all numbers which are equal to the sum of the factorial of their digits.\n",
    "\n",
    "Note: as 1! = 1 and 2! = 2 are not sums they are not included.\n",
    "\n",
    "## Problem 34 - Solution"
   ]
  },
  {
   "cell_type": "code",
   "execution_count": 14,
   "metadata": {},
   "outputs": [
    {
     "name": "stdout",
     "output_type": "stream",
     "text": [
      "145\n",
      "40585\n",
      "40730\n",
      "0.482200545154\n"
     ]
    }
   ],
   "source": [
    "import math, time\n",
    "start = time.clock()\n",
    "total_sum = 0\n",
    "for i in range(10,99999):\n",
    "    s = str(i)\n",
    "    digit_sum = 0\n",
    "    for d in s:\n",
    "        digit_sum += math.factorial(int(d))\n",
    "    if digit_sum == i:\n",
    "        total_sum += digit_sum\n",
    "        print(digit_sum)\n",
    "print total_sum\n",
    "end = time.clock()\n",
    "print(end - start)"
   ]
  },
  {
   "cell_type": "markdown",
   "metadata": {},
   "source": [
    "## Problem 35 - Circular primes\n",
    "\n",
    "The number, 197, is called a circular prime because all rotations of the digits: 197, 971, and 719, are themselves prime.\n",
    "\n",
    "There are thirteen such primes below 100: 2, 3, 5, 7, 11, 13, 17, 31, 37, 71, 73, 79, and 97.\n",
    "\n",
    "How many circular primes are there below one million?\n",
    "\n",
    "## Problem 35 - Solution"
   ]
  },
  {
   "cell_type": "code",
   "execution_count": 18,
   "metadata": {},
   "outputs": [
    {
     "name": "stdout",
     "output_type": "stream",
     "text": [
      "55\n",
      "2.84988449584\n"
     ]
    }
   ],
   "source": [
    "import math, time\n",
    "\n",
    "def isprime(n):\n",
    "    if n == 1:\n",
    "        return False\n",
    "    elif n < 4:\n",
    "        return True\n",
    "    elif n%2 == 0:\n",
    "        return False\n",
    "    elif n < 9:\n",
    "        return True\n",
    "    elif n%3 == 0:\n",
    "        return False\n",
    "    else:\n",
    "        r = math.floor(math.sqrt(n))\n",
    "        f = 5\n",
    "        while f <= r:\n",
    "            if n%f == 0:\n",
    "                return False\n",
    "            if n%(f+2) == 0:\n",
    "                return False\n",
    "            f=f+6\n",
    "        return True\n",
    "\n",
    "def isCirclePrime(n):\n",
    "    if n == 2:\n",
    "        return True\n",
    "    stringn = str(n)\n",
    "    for i in stringn:\n",
    "        if int(i)%2 == 0:\n",
    "            return False\n",
    "    r = rotations(n)\n",
    "    for i in r:\n",
    "        if isprime(int(i)) == False:\n",
    "            return False\n",
    "    return True    \n",
    "\n",
    "from collections import deque\n",
    "\n",
    "def rotations(num): \n",
    "    d = deque(str(num))\n",
    "    return set([''.join(map(d.rotate(-1), d)) for i in xrange(len(d))])\n",
    "\n",
    "start = time.clock()\n",
    "count = 0\n",
    "for i in range(1000000):\n",
    "    if isprime(i):\n",
    "        if isCirclePrime(i):\n",
    "            count += 1\n",
    "\n",
    "end = time.clock()\n",
    "print(count)\n",
    "print(end-start)\n"
   ]
  },
  {
   "cell_type": "markdown",
   "metadata": {
    "collapsed": true
   },
   "source": [
    "## Problem 36 - Double-base palindromes\n",
    "\n",
    "The decimal number, 585 = 10010010012 (binary), is palindromic in both bases.\n",
    "\n",
    "Find the sum of all numbers, less than one million, which are palindromic in base 10 and base 2.\n",
    "\n",
    "(Please note that the palindromic number, in either base, may not include leading zeros.)\n",
    "\n",
    "## Problem 36 - Solution"
   ]
  },
  {
   "cell_type": "code",
   "execution_count": 19,
   "metadata": {},
   "outputs": [
    {
     "name": "stdout",
     "output_type": "stream",
     "text": [
      "872187\n"
     ]
    }
   ],
   "source": [
    "def ispalindrome(n):\n",
    "    s = str(n)\n",
    "    reverseda = s[::-1]\n",
    "    return s == reverseda\n",
    "\n",
    "def decimalToBinary(n):\n",
    "    return long(bin(n)[2:])\n",
    "    \n",
    "count = 0    \n",
    "for i in range(1000000):\n",
    "    if ispalindrome(i):\n",
    "        if ispalindrome(decimalToBinary(i)):\n",
    "            count += i\n",
    "print(count)            \n",
    "    "
   ]
  },
  {
   "cell_type": "markdown",
   "metadata": {},
   "source": [
    "## Problem 37 - Tuncatable primes\n",
    "\n",
    "The number 3797 has an interesting property. Being prime itself, it is possible to continuously remove digits from left to right, and remain prime at each stage: 3797, 797, 97, and 7. Similarly we can work from right to left: 3797, 379, 37, and 3.\n",
    "\n",
    "Find the sum of the only eleven primes that are both truncatable from left to right and right to left.\n",
    "\n",
    "NOTE: 2, 3, 5, and 7 are not considered to be truncatable primes.\n",
    "\n",
    "## Problem 37 - Solution"
   ]
  },
  {
   "cell_type": "code",
   "execution_count": 14,
   "metadata": {},
   "outputs": [
    {
     "name": "stdout",
     "output_type": "stream",
     "text": [
      "748317\n"
     ]
    }
   ],
   "source": [
    "import math\n",
    "def isprime(n):\n",
    "    if n == 1:\n",
    "        return False\n",
    "    elif n < 4:\n",
    "        return True\n",
    "    elif n%2 == 0:\n",
    "        return False\n",
    "    elif n < 9:\n",
    "        return True\n",
    "    elif n%3 == 0:\n",
    "        return False\n",
    "    else:\n",
    "        r = math.floor(math.sqrt(n))\n",
    "        f = 5\n",
    "        while f <= r:\n",
    "            if n%f == 0:\n",
    "                return False\n",
    "            if n%(f+2) == 0:\n",
    "                return False\n",
    "            f=f+6\n",
    "        return True\n",
    "\n",
    "def isprimetruncating(i):\n",
    "    tmp = str(i)\n",
    "    for x in range(1, len(tmp)):\n",
    "        if not isprime(int(tmp[x:])):\n",
    "            return False\n",
    "        if not isprime(int(tmp[:-x])):\n",
    "            return False\n",
    "    return True\n",
    "\n",
    "count = 0\n",
    "total = 0\n",
    "i = 23\n",
    "while count < 11:\n",
    "    if isprime(i):\n",
    "        if isprimetruncating(i):\n",
    "            count +=1\n",
    "            total += i\n",
    "    i += 2\n",
    "print(total)    \n",
    "    "
   ]
  },
  {
   "cell_type": "markdown",
   "metadata": {},
   "source": [
    "## Problem 38 - Pandigital Multiples\n",
    "\n",
    "Take the number 192 and multiply it by each of 1, 2, and 3:\n",
    "\n",
    "192 × 1 = 192  \n",
    "192 × 2 = 384  \n",
    "192 × 3 = 576  \n",
    "By concatenating each product we get the 1 to 9 pandigital, 192384576. We will call 192384576 the concatenated product of 192 and (1,2,3)\n",
    "\n",
    "The same can be achieved by starting with 9 and multiplying by 1, 2, 3, 4, and 5, giving the pandigital, 918273645, which is the concatenated product of 9 and (1,2,3,4,5).\n",
    "\n",
    "What is the largest 1 to 9 pandigital 9-digit number that can be formed as the concatenated product of an integer with (1,2, ... , n) where n > 1?\n",
    "\n",
    "## Problem 38 - Solution"
   ]
  },
  {
   "cell_type": "code",
   "execution_count": 10,
   "metadata": {},
   "outputs": [
    {
     "name": "stdout",
     "output_type": "stream",
     "text": [
      "932718654\n"
     ]
    }
   ],
   "source": [
    "#function to check if a string is 1-9 pandigital\n",
    "def pandigital(s):\n",
    "    if len(s) != 9:\n",
    "        return False\n",
    "    a = ['1','2','3','4','5','6','7','8','9']\n",
    "    for d in a:\n",
    "        if d not in s:\n",
    "            return False\n",
    "    return True    \n",
    "\n",
    "#9999 is the largest possible number to check because once you go above 4 digits its the concatenated product will exceed 9 digits.\n",
    "# 11111*2 = 22222 concated with 11111 = 1111122222 which is 10 digits.\n",
    "for i in range(9999,-1,-1):\n",
    "    tmp = i * 2\n",
    "    tmp2 = str(i) + str(tmp)\n",
    "    if pandigital(tmp2):\n",
    "        print(tmp2)\n",
    "        break"
   ]
  },
  {
   "cell_type": "markdown",
   "metadata": {},
   "source": [
    "## Problem 39 - Integer right triangles\n",
    "\n",
    "If p is the perimeter of a right angle triangle with integral length sides, {a,b,c}, there are exactly three solutions for p = 120.\n",
    "\n",
    "{20,48,52}, {24,45,51}, {30,40,50}\n",
    "\n",
    "For which value of p ≤ 1000, is the number of solutions maximised?\n",
    "\n",
    "## Problem 39 - Solution"
   ]
  },
  {
   "cell_type": "code",
   "execution_count": 14,
   "metadata": {},
   "outputs": [
    {
     "name": "stdout",
     "output_type": "stream",
     "text": [
      "(24, 1)\n",
      "(120, 3)\n",
      "(360, 4)\n",
      "(420, 5)\n",
      "(840, 8)\n"
     ]
    }
   ],
   "source": [
    "#a^2 +b^2 = c^2\n",
    "#a+b+c = p\n",
    "\n",
    "currentMax = 0\n",
    "maxP = 0        \n",
    "for p in range(2,1000,2):\n",
    "    numberOfSolutions = 0  \n",
    "    for a in range(2,p/3,2):\n",
    "        if p*(p-(2*a)) % (2*(p-a)) == 0:\n",
    "            numberOfSolutions += 1\n",
    "            \n",
    "    if numberOfSolutions > currentMax:\n",
    "        print(p, numberOfSolutions)\n",
    "        currentMax = numberOfSolutions\n",
    "        maxP = p\n",
    "        "
   ]
  },
  {
   "cell_type": "markdown",
   "metadata": {
    "collapsed": true
   },
   "source": [
    "## Problem 40 - Champernowne's constant\n",
    "\n",
    "An irrational decimal fraction is created by concatenating the positive integers:\n",
    "\n",
    "0.123456789101112131415161718192021...  \n",
    "\n",
    "It can be seen that the 12th digit of the fractional part is 1.  \n",
    "\n",
    "If dn represents the nth digit of the fractional part, find the value of the following expression.  \n",
    "\n",
    "d<sub>1</sub> × d<sub>10</sub> × d<sub>100</sub> × d<sub>1000</sub> × d<sub>10000</sub> × <sub>d100000</sub> × d<sub>1000000</sub>\n",
    "\n",
    "## Problem 40 - Solution"
   ]
  },
  {
   "cell_type": "code",
   "execution_count": 6,
   "metadata": {},
   "outputs": [
    {
     "name": "stdout",
     "output_type": "stream",
     "text": [
      "210\n"
     ]
    }
   ],
   "source": [
    "iDec = ''\n",
    "for i in range(1,1000001):\n",
    "    iDec += str(i)\n",
    "\n",
    "print(int(iDec[0])*int(iDec[9])*int(iDec[99])*int(iDec[999])*int(iDec[9999])*int(iDec[99999])*int(iDec[999999]))    "
   ]
  },
  {
   "cell_type": "code",
   "execution_count": null,
   "metadata": {
    "collapsed": true
   },
   "outputs": [],
   "source": []
  },
  {
   "cell_type": "code",
   "execution_count": null,
   "metadata": {
    "collapsed": true
   },
   "outputs": [],
   "source": []
  }
 ],
 "metadata": {
  "anaconda-cloud": {},
  "kernelspec": {
   "display_name": "Python 2",
   "language": "python",
   "name": "python2"
  },
  "language_info": {
   "codemirror_mode": {
    "name": "ipython",
    "version": 2
   },
   "file_extension": ".py",
   "mimetype": "text/x-python",
   "name": "python",
   "nbconvert_exporter": "python",
   "pygments_lexer": "ipython2",
   "version": "2.7.14"
  }
 },
 "nbformat": 4,
 "nbformat_minor": 2
}
